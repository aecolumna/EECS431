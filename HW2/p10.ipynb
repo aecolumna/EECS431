{
 "cells": [
  {
   "cell_type": "markdown",
   "metadata": {},
   "source": [
    "# Answer"
   ]
  },
  {
   "cell_type": "code",
   "execution_count": null,
   "metadata": {},
   "outputs": [],
   "source": [
    "from heapq import heappop, heappush\n",
    "from collections import deque\n",
    "\n",
    "class Job:\n",
    "    def __init__(self, mTimeArrival, mTimeDuration):\n",
    "        self.mTimeArrival = mTimeArrival\n",
    "        self.mTimeDuration = mTimeDuration\n",
    "\n",
    "    def __lt__(self, other):\n",
    "        return self.mTimeDuration < other.mTimeDuration\n",
    "\n",
    "    def ___le__(self, other):\n",
    "        return self.mTimeDuration <= other.mTimeDuration\n",
    "\n",
    "    def __eq__(self, other):\n",
    "        return self.mTimeDuration == other.mTimeDuration\n",
    "\n",
    "    def __ne__(self, other):\n",
    "        return self.mTimeDuration != other.mTimeDuration\n",
    "\n",
    "    def __gt__(self, other):\n",
    "        return self.mTimeDuration > other.mTimeDuration\n",
    "\n",
    "    def __ge__(self, other):\n",
    "        return self.mTimeDuration >= other.mTimeDuration\n",
    "\n",
    "    def __repr__(self):\n",
    "        return \"Duration: {} Arrival: {}\".format(self.mTimeDuration, self.mTimeArrival)\n",
    "\n",
    "# I don't use the deck except the sorting is faster since they come in partially sorted?\n",
    "onDeck = deque()  \n",
    "heap = []\n",
    "time = 0\n",
    "cumulativeTimes = 0\n",
    "    \n",
    "numOfJobs = int(input())\n",
    "\n",
    "for _ in range(numOfJobs):\n",
    "    arrive, duration = (int(i) for i in input().split())\n",
    "    onDeck.appendleft(Job(arrive, duration))\n",
    "    \n",
    "    \n",
    "onDeck = sorted(onDeck, key=lambda x: x.mTimeArrival, reverse=True)\n",
    "    \n",
    "job = onDeck.pop()\n",
    "heap.append(job)\n",
    "time = job.mTimeArrival\n",
    "\n",
    "while heap:\n",
    "\n",
    "    job = heappop(heap)\n",
    "    time += job.mTimeDuration  # maybe we have to wait sometimes!\n",
    "    cumulativeTimes += time - job.mTimeArrival\n",
    "\n",
    "    while (onDeck and onDeck[-1].mTimeArrival <= time):\n",
    "        heappush(heap, onDeck.pop())\n",
    "\n",
    "    if onDeck and not heap:\n",
    "        job = onDeck.pop()\n",
    "        heappush(heap, job)\n",
    "        time = job.mTimeArrival  # catch up on time\n",
    "\n",
    "print(int(cumulativeTimes / numOfJobs))"
   ]
  },
  {
   "cell_type": "code",
   "execution_count": null,
   "metadata": {},
   "outputs": [],
   "source": [
    "from heapq import heappop, heappush\n",
    "from collections import deque\n",
    "\n",
    "class Job:\n",
    "    def __init__(self, mTimeArrival, mTimeDuration):\n",
    "        self.mTimeArrival = mTimeArrival\n",
    "        self.mTimeDuration = mTimeDuration\n",
    "\n",
    "    def __lt__(self, other):\n",
    "        return self.mTimeDuration < other.mTimeDuration\n",
    "\n",
    "    def ___le__(self, other):\n",
    "        return self.mTimeDuration <= other.mTimeDuration\n",
    "\n",
    "    def __eq__(self, other):\n",
    "        return self.mTimeDuration == other.mTimeDuration\n",
    "\n",
    "    def __ne__(self, other):\n",
    "        return self.mTimeDuration != other.mTimeDuration\n",
    "\n",
    "    def __gt__(self, other):\n",
    "        return self.mTimeDuration > other.mTimeDuration\n",
    "\n",
    "    def __ge__(self, other):\n",
    "        return self.mTimeDuration >= other.mTimeDuration\n",
    "\n",
    "    def __repr__(self):\n",
    "        return \"Duration: {} Arrival: {}\".format(self.mTimeDuration, self.mTimeArrival)\n",
    "\n",
    "# I don't use the deck except the sorting is faster since they come in partially sorted?\n",
    "onDeck = deque()  \n",
    "heap = []\n",
    "time = 0\n",
    "cumulativeTimes = 0\n",
    "    \n",
    "numOfJobs = int(input())\n",
    "\n",
    "for _ in range(numOfJobs):\n",
    "    arrive, duration = (int(i) for i in input().split())\n",
    "    onDeck.appendleft(Job(arrive, duration))\n",
    "    \n",
    "    \n",
    "onDeck = sorted(onDeck, key=lambda x: x.mTimeArrival, reverse=True)\n",
    "    \n",
    "job = onDeck.pop()\n",
    "heap.append(job)\n",
    "time = job.mTimeArrival\n",
    "\n",
    "while heap:\n",
    "\n",
    "    job = heappop(heap)\n",
    "    time += job.mTimeDuration  # maybe we have to wait sometimes!\n",
    "    cumulativeTimes += time - job.mTimeArrival\n",
    "\n",
    "    while (onDeck and onDeck[-1].mTimeArrival <= time):\n",
    "        heappush(heap, onDeck.pop())\n",
    "\n",
    "    if onDeck and not heap:\n",
    "        job = onDeck.pop()\n",
    "        heappush(heap, job)\n",
    "        time = job.mTimeArrival  # catch up on time\n",
    "\n",
    "print(int(cumulativeTimes / numOfJobs))"
   ]
  },
  {
   "cell_type": "code",
   "execution_count": null,
   "metadata": {},
   "outputs": [],
   "source": []
  },
  {
   "cell_type": "code",
   "execution_count": null,
   "metadata": {},
   "outputs": [],
   "source": []
  },
  {
   "cell_type": "code",
   "execution_count": null,
   "metadata": {},
   "outputs": [],
   "source": []
  },
  {
   "cell_type": "code",
   "execution_count": null,
   "metadata": {},
   "outputs": [],
   "source": []
  },
  {
   "cell_type": "code",
   "execution_count": null,
   "metadata": {},
   "outputs": [],
   "source": []
  },
  {
   "cell_type": "code",
   "execution_count": null,
   "metadata": {},
   "outputs": [],
   "source": []
  },
  {
   "cell_type": "code",
   "execution_count": null,
   "metadata": {},
   "outputs": [],
   "source": []
  },
  {
   "cell_type": "code",
   "execution_count": null,
   "metadata": {},
   "outputs": [],
   "source": []
  },
  {
   "cell_type": "code",
   "execution_count": 5,
   "metadata": {},
   "outputs": [],
   "source": []
  },
  {
   "cell_type": "code",
   "execution_count": 2,
   "metadata": {},
   "outputs": [],
   "source": [
    "# Useful methods\n",
    "heappush(heap, 5)\n",
    "heappop(heap)\n",
    "heapify(heap)"
   ]
  },
  {
   "cell_type": "markdown",
   "metadata": {},
   "source": [
    "\"Always start on the quickest one you currently have access to\""
   ]
  },
  {
   "cell_type": "code",
   "execution_count": 50,
   "metadata": {},
   "outputs": [],
   "source": [
    "class Job:\n",
    "    def __init__(self, mTimeDuration, mTimeArrival):\n",
    "        self.mTimeDuration = mTimeDuration\n",
    "        self.mTimeArrival = mTimeArrival\n",
    "        \n",
    "    def __lt__(self, other):\n",
    "        return self.mTimeDuration < other.mTimeDuration\n",
    "\n",
    "    def ___le__(self, other):\n",
    "        return self.mTimeDuration <= other.mTimeDuration\n",
    "\n",
    "    def __eq__(self, other):\n",
    "        return self.mTimeDuration == other.mTimeDuration\n",
    "\n",
    "    def __ne__(self, other):\n",
    "        return self.mTimeDuration != other.mTimeDuration\n",
    "\n",
    "    def __gt__(self, other):\n",
    "        return self.mTimeDuration > other.mTimeDuration\n",
    "\n",
    "    def __ge__(self, other):\n",
    "        return self.mTimeDuration >= other.mTimeDuration\n",
    "    \n",
    "    def __repr__(self):\n",
    "        return \"Duration: {} Arrival: {}\".format(self.mTimeDuration, self.mTimeArrival)"
   ]
  },
  {
   "cell_type": "code",
   "execution_count": 79,
   "metadata": {},
   "outputs": [],
   "source": [
    "deck = deque(onDeckArr)"
   ]
  },
  {
   "cell_type": "code",
   "execution_count": 80,
   "metadata": {},
   "outputs": [
    {
     "data": {
      "text/plain": [
       "Duration: 0 Arrival: 45"
      ]
     },
     "execution_count": 80,
     "metadata": {},
     "output_type": "execute_result"
    }
   ],
   "source": [
    "deck[-1]"
   ]
  },
  {
   "cell_type": "code",
   "execution_count": 71,
   "metadata": {},
   "outputs": [],
   "source": [
    "deck = deque(arr)"
   ]
  },
  {
   "cell_type": "code",
   "execution_count": 65,
   "metadata": {},
   "outputs": [],
   "source": [
    "from heapq import heapify, heappop, heappush\n",
    "from collections import deque"
   ]
  },
  {
   "cell_type": "code",
   "execution_count": 102,
   "metadata": {},
   "outputs": [
    {
     "data": {
      "text/plain": [
       "[Duration: 34 Arrival: 5,\n",
       " Duration: 5 Arrival: 4,\n",
       " Duration: 6 Arrival: 3,\n",
       " Duration: 9 Arrival: 2,\n",
       " Duration: 32 Arrival: 1,\n",
       " Duration: 45 Arrival: 0]"
      ]
     },
     "execution_count": 102,
     "metadata": {},
     "output_type": "execute_result"
    }
   ],
   "source": [
    "onDeck = deque() #use insert left, then pop! [-1] to check largest value to go.\n",
    "\n",
    "j1 = Job(1, 32)\n",
    "j2 = Job(2, 9)\n",
    "j3 = Job(3, 6)\n",
    "j4 = Job(4, 5)\n",
    "j5 = Job(0, 45)\n",
    "j6 = Job(5, 34)\n",
    "\n",
    "\n",
    "onDeck.appendleft(j1)\n",
    "onDeck.appendleft(j2)\n",
    "onDeck.appendleft(j3)\n",
    "onDeck.appendleft(j4)\n",
    "onDeck.appendleft(j5)\n",
    "onDeck.appendleft(j6)\n",
    "\n",
    "sorted(onDeck, key=lambda x: x.mTimeArrival, reverse=True)"
   ]
  },
  {
   "cell_type": "code",
   "execution_count": 89,
   "metadata": {},
   "outputs": [],
   "source": [
    "from heapq import heapify, heappop, heappush\n",
    "from collections import deque\n",
    "\n",
    "onDeck = deque() #use insert left, then pop! [-1] to check largest value to go.\n",
    "heap = []\n",
    "time = 0\n",
    "cumulativeTimes = 0\n",
    "\n",
    "numOfJobs = 6 # given by input. Use it to calculate average in the end\n",
    "\n",
    "j1 = Job(1, 32)\n",
    "j2 = Job(2, 9)\n",
    "j3 = Job(3, 6)\n",
    "j4 = Job(4, 5)\n",
    "j5 = Job(0, 45)\n",
    "j6 = Job(5, 34)\n",
    "\n",
    "\n",
    "onDeck.appendleft(j1)\n",
    "onDeck.appendleft(j2)\n",
    "onDeck.appendleft(j3)\n",
    "onDeck.appendleft(j4)\n",
    "onDeck.appendleft(j5)\n",
    "onDeck.appendleft(j6)\n",
    "\n",
    "job = onDeck.pop()\n",
    "heap.append(job)\n",
    "time = job.mTimeArrival\n",
    "\n",
    "while heap:\n",
    "            \n",
    "    job = heappop(heap)\n",
    "    time += job.mTimeDuration # maybe we have to wait sometimes!\n",
    "    cumulativeTimes += time - job.mTimeArrival\n",
    "    \n",
    "    while(onDeck and onDeck[-1].mTimeArrival <= time):\n",
    "        heappush(heap, onDeck.pop())\n",
    "        \n",
    "    if onDeck and not heap:\n",
    "        job = onDeck.pop()\n",
    "        heappush(heap, job)\n",
    "        time = job.mTimeArrival # catch up on time"
   ]
  },
  {
   "cell_type": "code",
   "execution_count": 88,
   "metadata": {},
   "outputs": [
    {
     "data": {
      "text/plain": [
       "18.666666666666668"
      ]
     },
     "execution_count": 88,
     "metadata": {},
     "output_type": "execute_result"
    }
   ],
   "source": [
    "cumulativeTimes/numOfJobs"
   ]
  },
  {
   "cell_type": "code",
   "execution_count": 97,
   "metadata": {},
   "outputs": [
    {
     "name": "stdout",
     "output_type": "stream",
     "text": [
      "7\n"
     ]
    }
   ],
   "source": [
    "onDeck = deque() #use insert left, then pop! [-1] to check largest value to go.\n",
    "heap = []\n",
    "time = 0\n",
    "cumulativeTimes = 0\n",
    "\n",
    "numOfJobs = 3 # given by input. Use it to calculate average in the end\n",
    "\n",
    "j1 = Job(0, 3)\n",
    "j2 = Job(1, 9)\n",
    "j3 = Job(2, 6)\n",
    "\n",
    "\n",
    "onDeck.appendleft(j1)\n",
    "onDeck.appendleft(j2)\n",
    "onDeck.appendleft(j3)\n",
    "\n",
    "job = onDeck.pop()\n",
    "heap.append(job)\n",
    "time = job.mTimeArrival\n",
    "\n",
    "while heap:\n",
    "            \n",
    "    job = heappop(heap)\n",
    "    time += job.mTimeDuration # maybe we have to wait sometimes!\n",
    "    cumulativeTimes += time - job.mTimeArrival\n",
    "    \n",
    "    while(onDeck and onDeck[-1].mTimeArrival <= time):\n",
    "        heappush(heap, onDeck.pop())\n",
    "        \n",
    "    if onDeck and not heap:\n",
    "        job = onDeck.pop()\n",
    "        heappush(heap, job)\n",
    "        time = job.mTimeArrival # catch up on time\n",
    "        \n",
    "\n",
    "print(cumulativeTimes)"
   ]
  },
  {
   "cell_type": "code",
   "execution_count": 99,
   "metadata": {},
   "outputs": [
    {
     "name": "stdout",
     "output_type": "stream",
     "text": [
      "8\n"
     ]
    }
   ],
   "source": [
    "from heapq import heappop, heappush\n",
    "from collections import deque\n",
    "\n",
    "class Job:\n",
    "    def __init__(self, mTimeArrival, mTimeDuration):\n",
    "        self.mTimeArrival = mTimeArrival\n",
    "        self.mTimeDuration = mTimeDuration\n",
    "\n",
    "    def __lt__(self, other):\n",
    "        return self.mTimeDuration < other.mTimeDuration\n",
    "\n",
    "    def ___le__(self, other):\n",
    "        return self.mTimeDuration <= other.mTimeDuration\n",
    "\n",
    "    def __eq__(self, other):\n",
    "        return self.mTimeDuration == other.mTimeDuration\n",
    "\n",
    "    def __ne__(self, other):\n",
    "        return self.mTimeDuration != other.mTimeDuration\n",
    "\n",
    "    def __gt__(self, other):\n",
    "        return self.mTimeDuration > other.mTimeDuration\n",
    "\n",
    "    def __ge__(self, other):\n",
    "        return self.mTimeDuration >= other.mTimeDuration\n",
    "\n",
    "    def __repr__(self):\n",
    "        return \"Duration: {} Arrival: {}\".format(self.mTimeDuration, self.mTimeArrival)\n",
    "\n",
    "\n",
    "onDeck = deque()  # use insert left, then pop! [-1] to check largest value to go.\n",
    "heap = []\n",
    "time = 0\n",
    "cumulativeTimes = 0\n",
    "\n",
    "numOfJobs = 3  # given by input. Use it to calculate average in the end\n",
    "\n",
    "j1 = Job(0, 3)\n",
    "j2 = Job(1, 9)\n",
    "j3 = Job(2, 5)\n",
    "\n",
    "onDeck.appendleft(j1)\n",
    "onDeck.appendleft(j2)\n",
    "onDeck.appendleft(j3)\n",
    "\n",
    "job = onDeck.pop()\n",
    "heap.append(job)\n",
    "time = job.mTimeArrival\n",
    "\n",
    "while heap:\n",
    "\n",
    "    job = heappop(heap)\n",
    "    time += job.mTimeDuration  # maybe we have to wait sometimes!\n",
    "    cumulativeTimes += time - job.mTimeArrival\n",
    "\n",
    "    while (onDeck and onDeck[-1].mTimeArrival <= time):\n",
    "        heappush(heap, onDeck.pop())\n",
    "\n",
    "    if onDeck and not heap:\n",
    "        job = onDeck.pop()\n",
    "        heappush(heap, job)\n",
    "        time = job.mTimeArrival  # catch up on time\n",
    "\n",
    "print(int(cumulativeTimes / numOfJobs))"
   ]
  },
  {
   "cell_type": "code",
   "execution_count": null,
   "metadata": {},
   "outputs": [],
   "source": []
  }
 ],
 "metadata": {
  "kernelspec": {
   "display_name": "Python 3",
   "language": "python",
   "name": "python3"
  },
  "language_info": {
   "codemirror_mode": {
    "name": "ipython",
    "version": 3
   },
   "file_extension": ".py",
   "mimetype": "text/x-python",
   "name": "python",
   "nbconvert_exporter": "python",
   "pygments_lexer": "ipython3",
   "version": "3.6.5"
  }
 },
 "nbformat": 4,
 "nbformat_minor": 2
}
