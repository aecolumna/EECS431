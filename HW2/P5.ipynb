{
 "cells": [
  {
   "cell_type": "code",
   "execution_count": 72,
   "metadata": {},
   "outputs": [
    {
     "name": "stdout",
     "output_type": "stream",
     "text": [
      "/Users/andres/Desktop/EECS431\r\n"
     ]
    }
   ],
   "source": [
    "!pwd"
   ]
  },
  {
   "cell_type": "code",
   "execution_count": 1,
   "metadata": {},
   "outputs": [],
   "source": [
    "numLst = list(range(4))\n",
    "topicIds = [0, 4]"
   ]
  },
  {
   "cell_type": "code",
   "execution_count": 2,
   "metadata": {},
   "outputs": [],
   "source": [
    "maxDistance = 0"
   ]
  },
  {
   "cell_type": "code",
   "execution_count": 45,
   "metadata": {},
   "outputs": [],
   "source": [
    "def binarySearchDistance(arr, x):\n",
    "    l = 0\n",
    "    r = len(arr) - 1\n",
    "    \n",
    "    if x > arr[r]:\n",
    "        return x - arr[r]\n",
    "\n",
    "    if x < arr[l]:\n",
    "        return arr[r] - x\n",
    "    \n",
    "    while l <= r:\n",
    "        mid = l + (r - l) // 2\n",
    "        \n",
    "        if arr[mid] == x:\n",
    "            return 0\n",
    "        \n",
    "        elif arr[mid] < x:\n",
    "            l = mid + 1\n",
    "            \n",
    "        else:\n",
    "            r = mid - 1\n",
    "\n",
    "    return max(arr[r] - x, x - arr[r])"
   ]
  },
  {
   "cell_type": "code",
   "execution_count": 59,
   "metadata": {},
   "outputs": [],
   "source": [
    "arr = [12, 14, 23, 31, 49, 52, 74, 75, 77, 93]"
   ]
  },
  {
   "cell_type": "code",
   "execution_count": 9,
   "metadata": {},
   "outputs": [
    {
     "data": {
      "text/plain": [
       "[12, 14, 23, 31, 49, 52, 74, 75, 77, 93]"
      ]
     },
     "execution_count": 9,
     "metadata": {},
     "output_type": "execute_result"
    }
   ],
   "source": [
    "arr = sorted(arr)\n",
    "arr"
   ]
  },
  {
   "cell_type": "code",
   "execution_count": 34,
   "metadata": {},
   "outputs": [
    {
     "name": "stdout",
     "output_type": "stream",
     "text": [
      "(31, 49)\n"
     ]
    }
   ],
   "source": [
    "print(binarySearch(arr, 0, len(arr)-1, 35))"
   ]
  },
  {
   "cell_type": "code",
   "execution_count": 35,
   "metadata": {},
   "outputs": [
    {
     "data": {
      "text/plain": [
       "(49, 52)"
      ]
     },
     "execution_count": 35,
     "metadata": {},
     "output_type": "execute_result"
    }
   ],
   "source": [
    "binarySearch(arr, 0, len(arr)-1, 50)"
   ]
  },
  {
   "cell_type": "code",
   "execution_count": 68,
   "metadata": {},
   "outputs": [
    {
     "data": {
      "text/plain": [
       "[6, 25, 30, 41, 61, 90, 91, 93, 97]"
      ]
     },
     "execution_count": 68,
     "metadata": {},
     "output_type": "execute_result"
    }
   ],
   "source": [
    "intArr"
   ]
  },
  {
   "cell_type": "code",
   "execution_count": 1,
   "metadata": {},
   "outputs": [
    {
     "name": "stdout",
     "output_type": "stream",
     "text": [
      "0 6\n",
      "1 5\n",
      "2 4\n",
      "3 3\n",
      "4 2\n",
      "5 1\n",
      "6 0\n",
      "7 1\n",
      "8 2\n",
      "9 3\n",
      "10 4\n",
      "11 5\n",
      "12 6\n",
      "13 7\n",
      "14 8\n",
      "15 9\n",
      "16 9\n",
      "17 8\n",
      "18 7\n",
      "19 6\n",
      "20 5\n",
      "21 4\n",
      "22 3\n",
      "23 2\n",
      "24 1\n",
      "25 0\n",
      "26 1\n",
      "27 2\n",
      "28 2\n",
      "29 1\n",
      "30 0\n",
      "31 1\n",
      "32 2\n",
      "33 3\n",
      "34 4\n",
      "35 5\n",
      "36 5\n",
      "37 4\n",
      "38 3\n",
      "39 2\n",
      "40 1\n",
      "41 0\n",
      "42 1\n",
      "43 2\n",
      "44 3\n",
      "45 4\n",
      "46 5\n",
      "47 6\n",
      "48 7\n",
      "49 8\n",
      "50 9\n",
      "51 10\n",
      "52 9\n",
      "53 8\n",
      "54 7\n",
      "55 6\n",
      "56 5\n",
      "57 4\n",
      "58 3\n",
      "59 2\n",
      "60 1\n",
      "61 0\n",
      "62 1\n",
      "63 2\n",
      "64 3\n",
      "65 4\n",
      "66 5\n",
      "67 6\n",
      "68 7\n",
      "69 8\n",
      "70 9\n",
      "71 10\n",
      "72 11\n",
      "73 12\n",
      "74 13\n",
      "75 14\n",
      "76 14\n",
      "77 13\n",
      "78 12\n",
      "79 11\n",
      "80 10\n",
      "81 9\n",
      "82 8\n",
      "83 7\n",
      "84 6\n",
      "85 5\n",
      "86 4\n",
      "87 3\n",
      "88 2\n",
      "89 1\n",
      "90 0\n",
      "91 0\n",
      "92 1\n",
      "93 0\n",
      "94 1\n",
      "95 2\n",
      "96 1\n",
      "97 0\n",
      "98 1\n",
      "99 2\n"
     ]
    }
   ],
   "source": [
    "def binarySearchDistance(arr, x):\n",
    "    l = 0\n",
    "    r = len(arr) - 1\n",
    "\n",
    "    if x > arr[r]:\n",
    "        return x - arr[r]\n",
    "\n",
    "    if x < arr[l]:\n",
    "        return arr[l] - x\n",
    "\n",
    "    while l <= r:\n",
    "        mid = l + (r - l) // 2\n",
    "\n",
    "        if arr[mid] == x:\n",
    "            return 0\n",
    "\n",
    "        elif arr[mid] < x:\n",
    "            l = mid + 1\n",
    "\n",
    "        else:\n",
    "            r = mid - 1\n",
    "\n",
    "    n1 = arr[l] - x\n",
    "    n2 = x - arr[r]\n",
    "    return min(n1, n2)\n",
    "\n",
    "arr = [6, 25, 30, 41, 61, 90, 91, 93, 97]\n",
    "\n",
    "for i in range(100):\n",
    "    print(i, binarySearchDistance(arr, i))"
   ]
  },
  {
   "cell_type": "code",
   "execution_count": 62,
   "metadata": {},
   "outputs": [
    {
     "data": {
      "text/plain": [
       "[6, 25, 30, 41, 61, 90, 91, 93, 97]"
      ]
     },
     "execution_count": 62,
     "metadata": {},
     "output_type": "execute_result"
    }
   ],
   "source": [
    "stringArr = \"93 41 91 61 30 6 25 90 97\".split()\n",
    "intArr = sorted([int(i) for i in stringArr])\n",
    "intArr"
   ]
  },
  {
   "cell_type": "code",
   "execution_count": 57,
   "metadata": {},
   "outputs": [],
   "source": []
  },
  {
   "cell_type": "code",
   "execution_count": 58,
   "metadata": {},
   "outputs": [],
   "source": [
    "numRange = 100"
   ]
  },
  {
   "cell_type": "code",
   "execution_count": 71,
   "metadata": {},
   "outputs": [
    {
     "data": {
      "text/plain": [
       "14"
      ]
     },
     "execution_count": 71,
     "metadata": {},
     "output_type": "execute_result"
    }
   ],
   "source": [
    "maximumDistance = 0\n",
    "\n",
    "for i in range(numRange):\n",
    "    localMax = binarySearchDistance(intArr, i)\n",
    "    if localMax > maximumDistance:\n",
    "        maximumDistance = localMax\n",
    "        \n",
    "maximumDistance"
   ]
  },
  {
   "cell_type": "code",
   "execution_count": null,
   "metadata": {},
   "outputs": [],
   "source": []
  }
 ],
 "metadata": {
  "kernelspec": {
   "display_name": "Python 3",
   "language": "python",
   "name": "python3"
  },
  "language_info": {
   "codemirror_mode": {
    "name": "ipython",
    "version": 3
   },
   "file_extension": ".py",
   "mimetype": "text/x-python",
   "name": "python",
   "nbconvert_exporter": "python",
   "pygments_lexer": "ipython3",
   "version": "3.6.5"
  }
 },
 "nbformat": 4,
 "nbformat_minor": 2
}
