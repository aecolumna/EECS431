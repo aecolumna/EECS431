{
 "cells": [
  {
   "cell_type": "markdown",
   "metadata": {},
   "source": [
    "# HW 5\n",
    "\n",
    "by Anjali Munasinghe, Jesse McClay, and Andrés Columna\n",
    "\n",
    "### Table of Contents\n",
    "\n",
    "1. [MergeSort vs InsertionSort](#Problem-1)\n",
    "\n",
    "2. [HybridSorting](#Problem-2)\n"
   ]
  },
  {
   "cell_type": "markdown",
   "metadata": {},
   "source": [
    "# Problem 1\n",
    "# MergeSort vs InsertionSort"
   ]
  },
  {
   "cell_type": "markdown",
   "metadata": {},
   "source": [
    "## Hypothesis\n",
    "\n",
    "The CLRS textbook states that insertion sort is more efficient for small n, but that the exact value of n varies between n=7 and n=50 depending on implementation and the environment its run. This makes sense, as mergesort performs the same number of operations\n",
    "regardless of how partially sorted the array we're sorting is or how large it is, whereas a factor in the time required by insertionsort time is the distance an element is from its final destination. So small array means small distances regardless of where an element is. This mean the best-case time complexity for insertion sort is $O(n)$ when we're sorting an already sorted array. And $O(nk)$ in general, where k is the most out-of-place element. So if the largest element in an array we're trying to sort in increasing order is in index=n-1, this devolves into $O(n^2)$\n",
    "\n",
    "Despite CLRS' claims, I imagine the $n < 7$ holds for the most efficient implementation of mergesort, which is harder to code (Our version of insertionsort can't be improved in python at least). The easier version of mergesort we're planning on using obviously still has the same asymptotic complexity as any other version of mergesort, but adds some gnarly linear terms that might show up for small n. This is due to copying of lists (e.g. mergesort(arr[:mid]) instead of just passing parameters i and mid and mid and j when splitting the left half and right half of the arrays in mergesort.\n",
    "\n",
    "So our guess is that insertionsort will be more efficient than mergesort for $n < 60$. Mergesort will be more efficient for all $n > 60$."
   ]
  },
  {
   "cell_type": "markdown",
   "metadata": {},
   "source": [
    "## Methods"
   ]
  },
  {
   "cell_type": "markdown",
   "metadata": {},
   "source": [
    "The version of python used is cPython 3.6.5 |[GCC 4.2.1 Compatible Clang 4.0.1 on darwin VM\n",
    "\n",
    "My computer is a macbook air w/ 8gb RAM.\n",
    "\n",
    "We used the timeit library from the python standard lib to time the functions. We use randint from the random library to create random arrays of variable length.\n",
    "\n",
    "We create ten random arrays for each length n, ranging from array len=1 to len=300. Then we sum how long it takes each algorithm to sort the ten random arrays, and we divide it by ten to find the mean. To be clear, both algorithms sort the same permutation of a random array. The integer sizes used in the random arrays range from 1 to 1000."
   ]
  },
  {
   "cell_type": "markdown",
   "metadata": {},
   "source": [
    "#### InsertionSort implementation source: homemade"
   ]
  },
  {
   "cell_type": "code",
   "execution_count": 2,
   "metadata": {},
   "outputs": [],
   "source": [
    "def insertionSort(arr):\n",
    "    for i in range(1, len(arr)):\n",
    "        j = i\n",
    "        val = arr[i]\n",
    "        while j > 0 and arr[j - 1] > val:\n",
    "            arr[j] = arr[j - 1]\n",
    "            j -= 1\n",
    "        arr[j] = val   "
   ]
  },
  {
   "cell_type": "markdown",
   "metadata": {},
   "source": [
    "#### InsertionSort test for correctness"
   ]
  },
  {
   "cell_type": "code",
   "execution_count": 3,
   "metadata": {},
   "outputs": [
    {
     "name": "stdout",
     "output_type": "stream",
     "text": [
      "Tests Passed\n"
     ]
    }
   ],
   "source": [
    "def testInsertionSort():\n",
    "    \n",
    "    from random import randint\n",
    "    from copy import deepcopy\n",
    "    \n",
    "    # test for 100 random arrays of random length between 1 and 100\n",
    "    for _ in range(100):\n",
    "        \n",
    "        arr = [randint(1, 100) for i in range(randint(1,100))]\n",
    "        \n",
    "        copyArr = deepcopy(arr)\n",
    "        insertionSort(arr)\n",
    "        \n",
    "        assert(arr == sorted(arr))\n",
    "        \n",
    "    print(\"Tests Passed\")\n",
    "        \n",
    "testInsertionSort()"
   ]
  },
  {
   "cell_type": "markdown",
   "metadata": {},
   "source": [
    "#### mergesort implementation, source: Andrés + merge from Python Heapq library"
   ]
  },
  {
   "cell_type": "code",
   "execution_count": 4,
   "metadata": {},
   "outputs": [],
   "source": [
    "from heapq import merge\n",
    " \n",
    "def mergesort(arr):\n",
    "    length = len(arr)\n",
    "    \n",
    "    if length < 2:\n",
    "        return arr\n",
    " \n",
    "    mid = length // 2\n",
    "    lefthalf = mergesort(arr[:mid])\n",
    "    righthalf = mergesort(arr[mid:])\n",
    " \n",
    "    return list(merge(lefthalf, righthalf))"
   ]
  },
  {
   "cell_type": "markdown",
   "metadata": {},
   "source": [
    "#### test mergesort for correctness"
   ]
  },
  {
   "cell_type": "code",
   "execution_count": 5,
   "metadata": {},
   "outputs": [
    {
     "name": "stdout",
     "output_type": "stream",
     "text": [
      "Mergesort Tests Passed\n"
     ]
    }
   ],
   "source": [
    "def testMergesort():\n",
    "    \n",
    "    from random import randint\n",
    "    from copy import deepcopy\n",
    "    \n",
    "    # test for 100 random arrays of random length between 1 and 100\n",
    "    for _ in range(100):\n",
    "        \n",
    "        arr = [randint(1, 100) for i in range(randint(1,100))]\n",
    "        \n",
    "        copyArr = deepcopy(arr)\n",
    "        \n",
    "        assert(mergesort(arr) == sorted(arr))\n",
    "        \n",
    "    print(\"Mergesort Tests Passed\")\n",
    "        \n",
    "testMergesort()"
   ]
  },
  {
   "cell_type": "markdown",
   "metadata": {},
   "source": [
    "## Time mergesort vs insertion sort"
   ]
  },
  {
   "cell_type": "code",
   "execution_count": 7,
   "metadata": {},
   "outputs": [],
   "source": [
    "from timeit import timeit\n",
    "from random import randint\n",
    "from copy import deepcopy\n",
    "\n",
    "mergesortTimesArr = [] \n",
    "insertTimesArr = []\n",
    "\n",
    "# time sorts from len(arr) == 1 to len(arr) == 100 \n",
    "for arrlen in range(1, 200):\n",
    "    \n",
    "    mergeTimes  = 0\n",
    "    insertTimes = 0\n",
    "    \n",
    " \n",
    "    # takes average of ten runs\n",
    "    for _ in range(30):\n",
    "        arr1 = [randint(1, 1000) for i in range(arrlen)]\n",
    "        arr2 = deepcopy(arr1)\n",
    "        \n",
    "        mergeTimes  += timeit('mergesort(arr1)',     number=1, globals=globals())\n",
    "        insertTimes += timeit('insertionSort(arr2)', number=1, globals=globals())\n",
    "        \n",
    "    meanMergeTime =     mergeTimes  / 30.\n",
    "    meanInsertionTime = insertTimes / 30.\n",
    "    \n",
    "    mergesortTimesArr.append(meanMergeTime)\n",
    "    insertTimesArr.append(meanInsertionTime)\n",
    "    \n",
    "print(mergesortTimesArr, file=open(\"mergeData.txt\", \"a\"))\n",
    "print(insertTimesArr, file=open(\"insertData.txt\", \"a\"))"
   ]
  },
  {
   "cell_type": "markdown",
   "metadata": {},
   "source": [
    "#### Code for graphing in Mathematica 11\n",
    "\n",
    "```mathematica\n",
    "MergesortTimeData = \n",
    "  ToExpression@\n",
    "   StringReplace[\n",
    "    Import[\"/Users/andres/Desktop/EECS431/HW4/mergeData.txt\"], {\"e\" \"*^\", \"[\" -> \"{\", \"]\" -> \"}\"}];\n",
    "InsertionTimeData = \n",
    "  ToExpression@\n",
    "   StringReplace[\n",
    "    Import[\"/Users/andres/Desktop/EECS431/HW4/insertData.txt\"], {\"e\" \\\"*^\", \"[\" -> \"{\", \"]\" -> \"}\"}];\n",
    "ListLinePlot[{InsertionTimeData, MergesortTimeData}, \n",
    " PlotLegends -> {\"InsertionSort\", \"MergeSort\"}, \n",
    " AxesLabel -> {HoldForm[\"Len(x)\"], HoldForm[\"Seconds\"]}, \n",
    " PlotLabel -> HoldForm[\"InsertionSort vs MergeSort\"], \n",
    " LabelStyle -> {14, GrayLevel[0]}]\n",
    "\n",
    "```"
   ]
  },
  {
   "cell_type": "markdown",
   "metadata": {},
   "source": [
    "## Results\n",
    "\n",
    "the graph below indicates that mergesort becomes as fast as insertionsort around $n=95$ and clearly overtakes it at around $ n=130 $\n",
    "\n",
    "For $n < 90$, insertionsort is consistently faster than mergesort by tens of microseconds.  For $n > 150$, the $n^2$ time complexity of insertion sort becomes apparent. And the $n \\log{n}$ time complexity of mergsort is noticeably faster.\n",
    "\n",
    "In our The x-axis denotes the length of the array of integers (i.e. n). The y-axis denots the time it takes to sort the array.\n",
    "The data is discrete, so it should be a scatter plot but lines were drawn in between points so as to make it easier to read when lines cross. We used Wolfram Mathematica to graph the data."
   ]
  },
  {
   "cell_type": "markdown",
   "metadata": {},
   "source": [
    "![Image of Yaktocat](https://cdn.pbrd.co/images/HKrGrqb.png)"
   ]
  },
  {
   "cell_type": "markdown",
   "metadata": {},
   "source": [
    "## Conclusions"
   ]
  },
  {
   "cell_type": "markdown",
   "metadata": {},
   "source": [
    "Under the conditions tested, insertion sort produces a faster algorithm for n < 95, while mergesort is faster for n > 130. For n between 95 and 130 the two sorting algorithms are indistinguishable."
   ]
  },
  {
   "cell_type": "markdown",
   "metadata": {},
   "source": [
    "second run of timing for n < 200.\n",
    "\n",
    "![second run](https://cdn.pbrd.co/images/HKzrUct.png)"
   ]
  },
  {
   "cell_type": "markdown",
   "metadata": {},
   "source": [
    "Upon closer inspection, the precise value at which MergeSort overtakes InsertionSort is n=103. The values are in seconds. n equals the number of elements in the array\n",
    "\n",
    "![](https://cdn.pbrd.co/images/HKA3raz.png)"
   ]
  },
  {
   "cell_type": "markdown",
   "metadata": {},
   "source": [
    "---\n",
    "\n",
    "# Problem 2\n",
    "## Hybrid Sorting"
   ]
  },
  {
   "cell_type": "code",
   "execution_count": 106,
   "metadata": {},
   "outputs": [],
   "source": [
    "from heapq import merge\n",
    " \n",
    "def mergeSort(arr):\n",
    "    length = len(arr)\n",
    "    \n",
    "    if length < 2:\n",
    "        return arr\n",
    " \n",
    "    mid = length // 2\n",
    "    lefthalf = mergesort(arr[:mid])\n",
    "    righthalf = mergesort(arr[mid:])\n",
    " \n",
    "    return list(merge(lefthalf, righthalf))\n",
    "\n",
    "def insertionSort(arr):\n",
    "    for i in range(1, len(arr)):\n",
    "        j = i\n",
    "        val = arr[i]\n",
    "        while j > 0 and arr[j - 1] > val:\n",
    "            arr[j] = arr[j - 1]\n",
    "            j -= 1\n",
    "        arr[j] = val   "
   ]
  },
  {
   "cell_type": "code",
   "execution_count": 46,
   "metadata": {},
   "outputs": [],
   "source": [
    "# based on problem 1, lets try to see if n < 100 is faster.\n",
    "\n",
    "from heapq import merge\n",
    " \n",
    "def hybridSort(arr, n=103):\n",
    "    length = len(arr)\n",
    "    \n",
    "    if length < 10:\n",
    "        return insertionSort(arr)\n",
    "    \n",
    "    else:\n",
    " \n",
    "        mid = length // 2\n",
    "        lefthalf = hybridSort(arr[:mid])\n",
    "        righthalf = hybridSort(arr[mid:])\n",
    "\n",
    "        return list(merge(lefthalf, righthalf))"
   ]
  },
  {
   "cell_type": "code",
   "execution_count": 50,
   "metadata": {},
   "outputs": [
    {
     "name": "stdout",
     "output_type": "stream",
     "text": [
      "HybridSort Tests Passed\n"
     ]
    }
   ],
   "source": [
    "def testHybridSort():\n",
    "    \n",
    "    from random import randint\n",
    "    from copy import deepcopy\n",
    "    \n",
    "    # test for 100 random arrays of random length between 1 and 100\n",
    "    for _ in range(100):\n",
    "        \n",
    "        arr = [randint(1, 100) for i in range(randint(1,300))]\n",
    "        \n",
    "        copyArr = deepcopy(arr)\n",
    "        assert(hybridsort(arr) == sorted(arr))\n",
    "        \n",
    "    print(\"HybridSort Tests Passed\")\n",
    "        \n",
    "testHybridSort()"
   ]
  },
  {
   "cell_type": "code",
   "execution_count": 48,
   "metadata": {},
   "outputs": [],
   "source": []
  },
  {
   "cell_type": "code",
   "execution_count": 59,
   "metadata": {},
   "outputs": [
    {
     "data": {
      "text/plain": [
       "[53, 22, 41, 95, 2, 100, 74, 28, 79, 29]"
      ]
     },
     "execution_count": 59,
     "metadata": {},
     "output_type": "execute_result"
    }
   ],
   "source": [
    "arr = [randint(1, 100) for i in range(10)]\n",
    "arr"
   ]
  },
  {
   "cell_type": "code",
   "execution_count": 119,
   "metadata": {},
   "outputs": [],
   "source": [
    "# hybrid sort\n",
    "def hybridSort(arr, first, last):\n",
    "    if first < last:\n",
    "        if (last-first) > 50:\n",
    "            middle = (first+last)//2            \n",
    "            hybridSort(arr, first, middle)\n",
    "            hybridSort(arr, middle+1, last)\n",
    "            merge(arr, first, middle, last)\n",
    "        else:\n",
    "            insertionSort(arr) \n",
    "\n",
    "# merge sort\n",
    "def mergeSort(arr, first, last):\n",
    "    if first < last:\n",
    "            middle = (first+last)//2            \n",
    "            mergeSort(arr, first, middle)\n",
    "            mergeSort(arr, middle+1, last)\n",
    "            return merge(arr, first, middle, last)\n",
    "\n",
    "\n",
    "# insertion sort\n",
    "def insertionSort(arr):\n",
    "    for i in range(1, len(arr)):\n",
    "        j = i\n",
    "        val = arr[i]\n",
    "        while j > 0 and arr[j - 1] > val:\n",
    "            arr[j] = arr[j - 1]\n",
    "            j -= 1\n",
    "        arr[j] = val"
   ]
  },
  {
   "cell_type": "code",
   "execution_count": 74,
   "metadata": {},
   "outputs": [
    {
     "data": {
      "text/plain": [
       "[64, 32, 52, 48, 76, 32, 40, 61, 57, 11]"
      ]
     },
     "execution_count": 74,
     "metadata": {},
     "output_type": "execute_result"
    }
   ],
   "source": [
    "arr = [randint(1, 100) for i in range(10)]\n",
    "arr"
   ]
  },
  {
   "cell_type": "code",
   "execution_count": 75,
   "metadata": {},
   "outputs": [],
   "source": [
    "mergeSort(arr, 0, len(arr)-1)"
   ]
  },
  {
   "cell_type": "code",
   "execution_count": 72,
   "metadata": {},
   "outputs": [],
   "source": [
    "\n",
    "from heapq import merge"
   ]
  },
  {
   "cell_type": "code",
   "execution_count": 78,
   "metadata": {},
   "outputs": [
    {
     "data": {
      "text/plain": [
       "[1, 2, 5, 3, 1, 44]"
      ]
     },
     "execution_count": 78,
     "metadata": {},
     "output_type": "execute_result"
    }
   ],
   "source": [
    "a = [1,2,44]\n",
    "b = [5,3,1]\n",
    "list(merge(a,b))"
   ]
  },
  {
   "cell_type": "code",
   "execution_count": 111,
   "metadata": {},
   "outputs": [],
   "source": [
    "\n",
    "import sys\n",
    "\n",
    "k=20\n",
    "\n",
    "# hybrid sort\n",
    "def hybridSort(arr, first, last):\n",
    "    if first < last:\n",
    "        if (last-first) > k:\n",
    "            middle = (first+last)//2            \n",
    "            hybridSort(arr, first, middle)\n",
    "            hybridSort(arr, middle+1, last)\n",
    "            merge(arr, first, middle, last)\n",
    "        else:\n",
    "            insertionSort(arr) \n",
    "\n",
    "# merge sort\n",
    "def mergeSort(arr, first, last):\n",
    "    if first < last:\n",
    "            middle = (first+last)//2            \n",
    "            mergeSort(arr, first, middle)\n",
    "            mergeSort(arr, middle+1, last)\n",
    "            merge(arr, first, middle, last)\n",
    "\n",
    "def merge(arr, first, middle, last):\n",
    "    left = arr[first:middle+1]\n",
    "    right = arr[middle+1:last+1]\n",
    "    left.append(sys.maxsize)\n",
    "    right.append(sys.maxsize)\n",
    "    i = j = 0\n",
    "\n",
    "    for k in range (first, last+1):\n",
    "        if left[i] <= right[j]:\n",
    "            arr[k] = left[i]\n",
    "            i += 1\n",
    "        else:\n",
    "            arr[k] = right[j]\n",
    "            j += 1\n",
    "            \n",
    "def insertionSort(arr):\n",
    "    for i in range(1, len(arr)):\n",
    "        j = i\n",
    "        val = arr[i]\n",
    "        while j > 0 and arr[j - 1] > val:\n",
    "            arr[j] = arr[j - 1]\n",
    "            j -= 1\n",
    "        arr[j] = val  "
   ]
  },
  {
   "cell_type": "code",
   "execution_count": 114,
   "metadata": {},
   "outputs": [
    {
     "name": "stdout",
     "output_type": "stream",
     "text": [
      "Mergesort Tests Passed\n"
     ]
    }
   ],
   "source": [
    "def testMergesort():\n",
    "    \n",
    "    from random import randint\n",
    "    from copy import deepcopy\n",
    "    \n",
    "    # test for 100 random arrays of random length between 1 and 100\n",
    "    for _ in range(100):\n",
    "        \n",
    "        arr = [randint(1, 100) for i in range(randint(1,100))]\n",
    "        \n",
    "        copyArr = deepcopy(arr)\n",
    "        mergeSort(arr, 0, len(arr) - 1)\n",
    "        \n",
    "        assert(arr == sorted(arr))\n",
    "        \n",
    "    print(\"Mergesort Tests Passed\")\n",
    "        \n",
    "testMergesort()"
   ]
  },
  {
   "cell_type": "code",
   "execution_count": 120,
   "metadata": {},
   "outputs": [
    {
     "name": "stdout",
     "output_type": "stream",
     "text": [
      "HybridSort Tests Passed\n"
     ]
    }
   ],
   "source": [
    "def testHybridSort():\n",
    "    \n",
    "    from random import randint\n",
    "    from copy import deepcopy\n",
    "    \n",
    "    # test for 100 random arrays of random length between 1 and 100\n",
    "    for _ in range(100):\n",
    "        \n",
    "        arr = [randint(1, 100) for i in range(randint(1,100))]\n",
    "        \n",
    "        copyArr = deepcopy(arr)\n",
    "        hybridSort(arr, 0, len(arr) - 1)\n",
    "        \n",
    "        assert(arr == sorted(arr))\n",
    "        \n",
    "    print(\"HybridSort Tests Passed\")\n",
    "        \n",
    "testHybridSort()"
   ]
  },
  {
   "cell_type": "code",
   "execution_count": 122,
   "metadata": {},
   "outputs": [],
   "source": [
    "from timeit import timeit\n",
    "from random import randint\n",
    "from copy import deepcopy\n",
    "\n",
    "mergesortTimesArr = [] \n",
    "insertTimesArr = []\n",
    "hybridTimesArr = []\n",
    "\n",
    "# time sorts from len(arr) == 1 to len(arr) == 100 \n",
    "for arrlen in range(1, 50):\n",
    "    \n",
    "    mergeTimes  = 0\n",
    "    insertTimes = 0\n",
    "    hybridTimes = 0\n",
    "    \n",
    " \n",
    "    # takes average of ten runs\n",
    "    for _ in range(10):\n",
    "        arr1 = [randint(1, 1000) for i in range(arrlen)]\n",
    "        arr2 = deepcopy(arr1)\n",
    "        arr3 = deepcopy(arr1)\n",
    "        \n",
    "        hybridTimes += timeit('hybridSort(arr1, 0, len(arr1)-1)', number=1, globals=globals())\n",
    "        mergeTimes  += timeit('mergeSort(arr2, 0, len(arr2)-1)',     number=1, globals=globals())\n",
    "        insertTimes += timeit('insertionSort(arr3)', number=1,    globals=globals())\n",
    "       \n",
    "        \n",
    "    meanMergeTime =     mergeTimes  / 10.\n",
    "    meanInsertionTime = insertTimes / 10.\n",
    "    meanHybridTime = hybridTimes / 10.\n",
    "    \n",
    "    mergesortTimesArr.append(meanMergeTime)\n",
    "    insertTimesArr.append(meanInsertionTime)\n",
    "    hybridTimesArr.append(hybridTimes)\n",
    "    \n",
    "    \n",
    "print(mergesortTimesArr, file=open(\"mergeData.txt\", \"a\"))\n",
    "print(insertTimesArr, file=open(\"insertData.txt\", \"a\"))\n",
    "print(hybridTimesArr, file=open(\"hybridData.txt\", \"a\"))"
   ]
  },
  {
   "cell_type": "code",
   "execution_count": 123,
   "metadata": {},
   "outputs": [],
   "source": [
    "sorted??"
   ]
  },
  {
   "cell_type": "code",
   "execution_count": null,
   "metadata": {},
   "outputs": [],
   "source": []
  }
 ],
 "metadata": {
  "kernelspec": {
   "display_name": "Python 3",
   "language": "python",
   "name": "python3"
  },
  "language_info": {
   "codemirror_mode": {
    "name": "ipython",
    "version": 3
   },
   "file_extension": ".py",
   "mimetype": "text/x-python",
   "name": "python",
   "nbconvert_exporter": "python",
   "pygments_lexer": "ipython3",
   "version": "3.6.5"
  }
 },
 "nbformat": 4,
 "nbformat_minor": 2
}
