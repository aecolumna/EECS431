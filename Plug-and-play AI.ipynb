{
 "cells": [
  {
   "cell_type": "code",
   "execution_count": 5,
   "metadata": {},
   "outputs": [],
   "source": [
    "\"\"\"\n",
    "Returns the combinations possible with available blocks. To find the permutations, I have to tinker with factorials\n",
    "\"\"\"\n",
    "\n",
    "def plugAndPlay(amount_i, blocks):\n",
    "    \n",
    "    combinations = [0] * (amount_i + 1) # initialize empty array to hold combinations\n",
    "    combinations[0] = 1 # set first value to 1\n",
    "    \n",
    "    for block in blocks:\n",
    "        for amount in range(block, len(combinations)):\n",
    "            combinations[amount] += combinations[amount - block]\n",
    "    \n",
    "    print(\"Answer: \", combinations[-1])\n",
    "    return combinations"
   ]
  },
  {
   "cell_type": "code",
   "execution_count": 17,
   "metadata": {},
   "outputs": [
    {
     "name": "stdout",
     "output_type": "stream",
     "text": [
      "Answer:  5\n",
      "[[], [1], [1, 1], [1, 1, 1], [1, 2, 1, 1]]\n",
      "0 : 1\n",
      "1 : 1\n",
      "2 : 2\n",
      "3 : 3\n",
      "4 : 5\n"
     ]
    }
   ],
   "source": [
    "coins = [1, 2, 3, 4]\n",
    "lst = play(4, coins)\n",
    "\n",
    "for a,b in enumerate(lst):\n",
    "    print(a, \":\",b)"
   ]
  },
  {
   "cell_type": "code",
   "execution_count": 16,
   "metadata": {},
   "outputs": [],
   "source": [
    "\"\"\"\n",
    "Returns the combinations possible with available blocks. To find the permutations, I have to tinker with factorials\n",
    "\"\"\"\n",
    "\n",
    "def play(amount_i, blocks):\n",
    "    \n",
    "    combinations = [0] * (amount_i + 1) # initialize empty array to hold combinations\n",
    "    combinations[0] = 1 # set first value to 1\n",
    "    \n",
    "    auxArr = [[] for i in combinations]\n",
    "    \n",
    "    for block in blocks:\n",
    "        for amount in range(block, len(combinations)):\n",
    "            combinations[amount] += combinations[amount - block]\n",
    "            auxArr[amount].append(combinations[amount-block])\n",
    "    \n",
    "    print(\"Answer: \", combinations[-1])\n",
    "    print(auxArr)\n",
    "    return combinations"
   ]
  },
  {
   "cell_type": "code",
   "execution_count": null,
   "metadata": {},
   "outputs": [],
   "source": []
  }
 ],
 "metadata": {
  "kernelspec": {
   "display_name": "Python 3",
   "language": "python",
   "name": "python3"
  },
  "language_info": {
   "codemirror_mode": {
    "name": "ipython",
    "version": 3
   },
   "file_extension": ".py",
   "mimetype": "text/x-python",
   "name": "python",
   "nbconvert_exporter": "python",
   "pygments_lexer": "ipython3",
   "version": "3.6.5"
  }
 },
 "nbformat": 4,
 "nbformat_minor": 2
}
