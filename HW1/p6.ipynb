{
 "cells": [
  {
   "cell_type": "code",
   "execution_count": 1,
   "metadata": {
    "collapsed": true
   },
   "outputs": [],
   "source": [
    "# for the maxDict bit, collect ALL the best coordinates. Get the best ones!"
   ]
  },
  {
   "cell_type": "code",
   "execution_count": 113,
   "metadata": {},
   "outputs": [
    {
     "data": {
      "text/plain": [
       "[[0, 1, 0, 0, 1, 0],\n",
       " [1, 1, 1, 1, 1, 1],\n",
       " [0, 1, 0, 0, 1, 0],\n",
       " [1, 1, 1, 1, 1, 1],\n",
       " [0, 1, 0, 0, 1, 0],\n",
       " [0, 1, 0, 0, 1, 0]]"
      ]
     },
     "execution_count": 113,
     "metadata": {},
     "output_type": "execute_result"
    }
   ],
   "source": [
    "## Input Stuff\n",
    "\n",
    "inputString =\"\"\"\n",
    "BGBBGB\n",
    "GGGGGG\n",
    "BGBBGB\n",
    "GGGGGG\n",
    "BGBBGB\n",
    "BGBBGB\n",
    "\"\"\"\n",
    "\n",
    "board = [[1 if char == 'G' else 0  for char in line] for line in inputString.split()]\n",
    "board"
   ]
  },
  {
   "cell_type": "code",
   "execution_count": 118,
   "metadata": {
    "collapsed": true
   },
   "outputs": [],
   "source": [
    "# return the largest possible PLUS with the center square at row,col given constraints of good and bad squares,\n",
    "# and the boundaries of the square\n",
    "def maxPlusPossible(row, col, board):\n",
    "    dimRows = len(board)\n",
    "    dimCols = len(board[0])\n",
    "    \n",
    "    r, c = row, col\n",
    "    \n",
    "    ####### Max Right\n",
    "    i = 0\n",
    "    while c + i < dimCols and board[r][c + i] == 1:\n",
    "        i += 1\n",
    "    maxRight = i\n",
    "    \n",
    "    ######## Max Left\n",
    "    i = 0\n",
    "    while c - i >= 0 and board[r][c - i] == 1:\n",
    "        i += 1\n",
    "    maxLeft = i\n",
    "    \n",
    "    ###### Max Bottom\n",
    "    i = 0\n",
    "    while r + i < dimRows and board[r + i][c] == 1:\n",
    "        i += 1\n",
    "    maxBottom = i\n",
    "    \n",
    "    ##### Max Top\n",
    "    i = 0\n",
    "    while r - i >= 0 and board[r - i][c] == 1:\n",
    "        i += 1\n",
    "    maxTop = i\n",
    "    \n",
    "    arr = [maxTop,maxBottom, maxLeft, maxRight]\n",
    "    \n",
    "    largestPlusPossible = min(arr)\n",
    "    \n",
    "    return largestPlusPossible"
   ]
  },
  {
   "cell_type": "code",
   "execution_count": 95,
   "metadata": {},
   "outputs": [
    {
     "name": "stdout",
     "output_type": "stream",
     "text": [
      "Success!\n"
     ]
    }
   ],
   "source": [
    "# MaxPlusPossible Tests\n",
    "\n",
    "\n",
    "assert(maxPlusPossible(0,0,board) == 0)\n",
    "assert(maxPlusPossible(2,4,board) == 1)\n",
    "assert(maxPlusPossible(3,1,board) == 0)\n",
    "print(\"Success!\")"
   ]
  },
  {
   "cell_type": "code",
   "execution_count": 124,
   "metadata": {},
   "outputs": [],
   "source": [
    "def bestSquares(board):\n",
    "    dimRows = len(board)\n",
    "    dimCols = len(board[0])\n",
    "    \n",
    "    maxDict = {}\n",
    "    \n",
    "    maxCoords = (0, 0)\n",
    "    maxVal = 0\n",
    "    for i in range(dimRows):\n",
    "        for j in range(dimCols):\n",
    "            temp = maxPlusPossible(i, j, board)\n",
    "            maxDict[(i,j)] = temp\n",
    "            \n",
    "    max_val = max(maxDict.values())\n",
    "    arr = [a for a,b in maxDict.items() if b == max_val]       \n",
    "    return arr, max_val"
   ]
  },
  {
   "cell_type": "code",
   "execution_count": 125,
   "metadata": {},
   "outputs": [
    {
     "data": {
      "text/plain": [
       "([(1, 1), (1, 4), (3, 1), (3, 4)], 2)"
      ]
     },
     "execution_count": 125,
     "metadata": {},
     "output_type": "execute_result"
    }
   ],
   "source": [
    "bestSquares(board)"
   ]
  },
  {
   "cell_type": "code",
   "execution_count": 121,
   "metadata": {},
   "outputs": [
    {
     "data": {
      "text/plain": [
       "2"
      ]
     },
     "execution_count": 121,
     "metadata": {},
     "output_type": "execute_result"
    }
   ],
   "source": [
    "\n",
    "    \n"
   ]
  },
  {
   "cell_type": "code",
   "execution_count": null,
   "metadata": {
    "collapsed": true
   },
   "outputs": [],
   "source": []
  },
  {
   "cell_type": "code",
   "execution_count": 99,
   "metadata": {},
   "outputs": [],
   "source": [
    "coords, maxVal = bestSquare(board)\n",
    "row, col = coords"
   ]
  },
  {
   "cell_type": "code",
   "execution_count": 100,
   "metadata": {
    "collapsed": true
   },
   "outputs": [],
   "source": [
    "def shadeTheBoard(tupleCoords, maxValue, originalBoard):\n",
    "    r, c = tupleCoords\n",
    "    from copy import deepcopy\n",
    "    board = deepcopy(originalBoard)\n",
    "        \n",
    "    dimRows = len(board)\n",
    "    dimCols = len(board[0])\n",
    "    \n",
    "    ####### Max Right\n",
    "    i = 0\n",
    "    while i <= maxValue:\n",
    "        board[r][c + i] = 0\n",
    "        board[r][c - i] = 0\n",
    "        board[r + i][c] = 0\n",
    "        board[r - i][c] = 0\n",
    "        \n",
    "        i += 1\n",
    "        \n",
    "    return board"
   ]
  },
  {
   "cell_type": "code",
   "execution_count": 104,
   "metadata": {},
   "outputs": [
    {
     "data": {
      "text/plain": [
       "[[1, 1, 1, 1, 1, 1],\n",
       " [1, 0, 0, 0, 0, 0],\n",
       " [1, 1, 1, 0, 0, 0],\n",
       " [1, 1, 0, 0, 0, 0],\n",
       " [1, 1, 1, 1, 1, 1]]"
      ]
     },
     "execution_count": 104,
     "metadata": {},
     "output_type": "execute_result"
    }
   ],
   "source": [
    "secondBoard = shadeTheBoard(row, col, maxVal, board)\n",
    "secondBoard"
   ]
  },
  {
   "cell_type": "code",
   "execution_count": 105,
   "metadata": {},
   "outputs": [
    {
     "data": {
      "text/plain": [
       "[[1, 1, 1, 1, 1, 1],\n",
       " [1, 0, 0, 0, 1, 0],\n",
       " [1, 1, 1, 1, 1, 1],\n",
       " [1, 1, 0, 0, 1, 0],\n",
       " [1, 1, 1, 1, 1, 1]]"
      ]
     },
     "execution_count": 105,
     "metadata": {},
     "output_type": "execute_result"
    }
   ],
   "source": [
    "board"
   ]
  },
  {
   "cell_type": "markdown",
   "metadata": {},
   "source": [
    "# Repeat steps on secondBoard!"
   ]
  },
  {
   "cell_type": "code",
   "execution_count": 107,
   "metadata": {},
   "outputs": [
    {
     "data": {
      "text/plain": [
       "0"
      ]
     },
     "execution_count": 107,
     "metadata": {},
     "output_type": "execute_result"
    }
   ],
   "source": [
    "_, maxSecondVal = bestSquare(secondBoard)\n",
    "maxSecondVal"
   ]
  },
  {
   "cell_type": "code",
   "execution_count": 108,
   "metadata": {
    "collapsed": true
   },
   "outputs": [],
   "source": [
    "def convertVal(x):\n",
    "    return 1 + 4*x"
   ]
  },
  {
   "cell_type": "code",
   "execution_count": 110,
   "metadata": {},
   "outputs": [
    {
     "data": {
      "text/plain": [
       "5"
      ]
     },
     "execution_count": 110,
     "metadata": {},
     "output_type": "execute_result"
    }
   ],
   "source": [
    "convertVal(maxVal)"
   ]
  },
  {
   "cell_type": "code",
   "execution_count": 112,
   "metadata": {},
   "outputs": [
    {
     "data": {
      "text/plain": [
       "1"
      ]
     },
     "execution_count": 112,
     "metadata": {},
     "output_type": "execute_result"
    }
   ],
   "source": [
    "convertVal(maxSecondVal)"
   ]
  },
  {
   "cell_type": "code",
   "execution_count": null,
   "metadata": {
    "collapsed": true
   },
   "outputs": [],
   "source": []
  }
 ],
 "metadata": {
  "kernelspec": {
   "display_name": "Python 3",
   "language": "python",
   "name": "python3"
  },
  "language_info": {
   "codemirror_mode": {
    "name": "ipython",
    "version": 3
   },
   "file_extension": ".py",
   "mimetype": "text/x-python",
   "name": "python",
   "nbconvert_exporter": "python",
   "pygments_lexer": "ipython3",
   "version": "3.6.3"
  }
 },
 "nbformat": 4,
 "nbformat_minor": 2
}
