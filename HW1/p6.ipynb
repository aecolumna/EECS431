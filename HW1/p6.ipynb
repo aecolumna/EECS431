{
 "cells": [
  {
   "cell_type": "markdown",
   "metadata": {},
   "source": [
    "# Answer"
   ]
  },
  {
   "cell_type": "code",
   "execution_count": 1,
   "metadata": {},
   "outputs": [
    {
     "name": "stdout",
     "output_type": "stream",
     "text": [
      "d\n"
     ]
    },
    {
     "ename": "ValueError",
     "evalue": "invalid literal for int() with base 10: 'd'",
     "output_type": "error",
     "traceback": [
      "\u001b[0;31m---------------------------------------------------------------------------\u001b[0m",
      "\u001b[0;31mValueError\u001b[0m                                Traceback (most recent call last)",
      "\u001b[0;32m<ipython-input-1-bf751d64e658>\u001b[0m in \u001b[0;36m<module>\u001b[0;34m()\u001b[0m\n\u001b[1;32m     14\u001b[0m     \u001b[0;32mreturn\u001b[0m \u001b[0mboard\u001b[0m\u001b[0;34m\u001b[0m\u001b[0m\n\u001b[1;32m     15\u001b[0m \u001b[0;34m\u001b[0m\u001b[0m\n\u001b[0;32m---> 16\u001b[0;31m \u001b[0mboard\u001b[0m \u001b[0;34m=\u001b[0m \u001b[0mgetRawInput\u001b[0m\u001b[0;34m(\u001b[0m\u001b[0;34m)\u001b[0m\u001b[0;34m\u001b[0m\u001b[0m\n\u001b[0m\u001b[1;32m     17\u001b[0m \u001b[0;34m\u001b[0m\u001b[0m\n\u001b[1;32m     18\u001b[0m \u001b[0;31m# return the largest possible PLUS with the center square at row,col given constraints of good and bad squares,\u001b[0m\u001b[0;34m\u001b[0m\u001b[0;34m\u001b[0m\u001b[0m\n",
      "\u001b[0;32m<ipython-input-1-bf751d64e658>\u001b[0m in \u001b[0;36mgetRawInput\u001b[0;34m()\u001b[0m\n\u001b[1;32m      2\u001b[0m \u001b[0;31m# Returns a 2-Dimensional array with values\u001b[0m\u001b[0;34m\u001b[0m\u001b[0;34m\u001b[0m\u001b[0m\n\u001b[1;32m      3\u001b[0m \u001b[0;32mdef\u001b[0m \u001b[0mgetRawInput\u001b[0m\u001b[0;34m(\u001b[0m\u001b[0;34m)\u001b[0m\u001b[0;34m:\u001b[0m\u001b[0;34m\u001b[0m\u001b[0m\n\u001b[0;32m----> 4\u001b[0;31m     \u001b[0minputRows\u001b[0m\u001b[0;34m,\u001b[0m \u001b[0m_\u001b[0m \u001b[0;34m=\u001b[0m \u001b[0;34m[\u001b[0m\u001b[0mint\u001b[0m\u001b[0;34m(\u001b[0m\u001b[0mi\u001b[0m\u001b[0;34m)\u001b[0m \u001b[0;32mfor\u001b[0m \u001b[0mi\u001b[0m \u001b[0;32min\u001b[0m \u001b[0minput\u001b[0m\u001b[0;34m(\u001b[0m\u001b[0;34m)\u001b[0m\u001b[0;34m.\u001b[0m\u001b[0msplit\u001b[0m\u001b[0;34m(\u001b[0m\u001b[0;34m)\u001b[0m\u001b[0;34m]\u001b[0m\u001b[0;34m\u001b[0m\u001b[0m\n\u001b[0m\u001b[1;32m      5\u001b[0m \u001b[0;34m\u001b[0m\u001b[0m\n\u001b[1;32m      6\u001b[0m     \u001b[0minputString\u001b[0m \u001b[0;34m=\u001b[0m \u001b[0;34m\"\"\u001b[0m\u001b[0;34m\u001b[0m\u001b[0m\n",
      "\u001b[0;32m<ipython-input-1-bf751d64e658>\u001b[0m in \u001b[0;36m<listcomp>\u001b[0;34m(.0)\u001b[0m\n\u001b[1;32m      2\u001b[0m \u001b[0;31m# Returns a 2-Dimensional array with values\u001b[0m\u001b[0;34m\u001b[0m\u001b[0;34m\u001b[0m\u001b[0m\n\u001b[1;32m      3\u001b[0m \u001b[0;32mdef\u001b[0m \u001b[0mgetRawInput\u001b[0m\u001b[0;34m(\u001b[0m\u001b[0;34m)\u001b[0m\u001b[0;34m:\u001b[0m\u001b[0;34m\u001b[0m\u001b[0m\n\u001b[0;32m----> 4\u001b[0;31m     \u001b[0minputRows\u001b[0m\u001b[0;34m,\u001b[0m \u001b[0m_\u001b[0m \u001b[0;34m=\u001b[0m \u001b[0;34m[\u001b[0m\u001b[0mint\u001b[0m\u001b[0;34m(\u001b[0m\u001b[0mi\u001b[0m\u001b[0;34m)\u001b[0m \u001b[0;32mfor\u001b[0m \u001b[0mi\u001b[0m \u001b[0;32min\u001b[0m \u001b[0minput\u001b[0m\u001b[0;34m(\u001b[0m\u001b[0;34m)\u001b[0m\u001b[0;34m.\u001b[0m\u001b[0msplit\u001b[0m\u001b[0;34m(\u001b[0m\u001b[0;34m)\u001b[0m\u001b[0;34m]\u001b[0m\u001b[0;34m\u001b[0m\u001b[0m\n\u001b[0m\u001b[1;32m      5\u001b[0m \u001b[0;34m\u001b[0m\u001b[0m\n\u001b[1;32m      6\u001b[0m     \u001b[0minputString\u001b[0m \u001b[0;34m=\u001b[0m \u001b[0;34m\"\"\u001b[0m\u001b[0;34m\u001b[0m\u001b[0m\n",
      "\u001b[0;31mValueError\u001b[0m: invalid literal for int() with base 10: 'd'"
     ]
    }
   ],
   "source": [
    "# Gets input from HackerRank Stdin\n",
    "# Returns a 2-Dimensional array with values\n",
    "def getRawInput():\n",
    "    inputRows, _ = [int(i) for i in input().split()]\n",
    "\n",
    "    inputString = \"\"\n",
    "\n",
    "    for i in range(inputRows):\n",
    "        raw = input()\n",
    "        inputString += raw\n",
    "        inputString += \"\\n\"\n",
    "\n",
    "    board = [[1 if char == 'G' else 0  for char in line] for line in inputString.split()]\n",
    "    return board\n",
    "\n",
    "board = getRawInput()\n",
    "\n",
    "# return the largest possible PLUS with the center square at row,col given constraints of good and bad squares,\n",
    "# and the boundaries of the square\n",
    "# return 0 means only center star is available\n",
    "def maxPlusPossible(row, col, board):\n",
    "    dimRows = len(board)\n",
    "    dimCols = len(board[0])\n",
    "\n",
    "    if board[row][col] == 0:\n",
    "        return -1\n",
    "\n",
    "    r, c = row, col\n",
    "\n",
    "    ####### Max Right\n",
    "    i = 0\n",
    "    while c + i < dimCols and board[r][c + i] == 1:\n",
    "        i += 1\n",
    "    maxRight = i\n",
    "\n",
    "    ######## Max Left\n",
    "    i = 0\n",
    "    while c - i >= 0 and board[r][c - i] == 1:\n",
    "        i += 1\n",
    "    maxLeft = i\n",
    "\n",
    "    ###### Max Bottom\n",
    "    i = 0\n",
    "    while r + i < dimRows and board[r + i][c] == 1:\n",
    "        i += 1\n",
    "    maxBottom = i\n",
    "\n",
    "    ##### Max Top\n",
    "    i = 0\n",
    "    while r - i >= 0 and board[r - i][c] == 1:\n",
    "        i += 1\n",
    "    maxTop = i\n",
    "\n",
    "    arr = [maxTop, maxBottom, maxLeft, maxRight]\n",
    "\n",
    "    largestPlusPossible = min(arr) - 1\n",
    "\n",
    "    return largestPlusPossible\n",
    "\n",
    "# Converts from max value\n",
    "# to number of stars covered\n",
    "def convertVal(x):\n",
    "    if x < 0:\n",
    "        return 0\n",
    "    return 1 + (4 * x)\n",
    "\n",
    "# Returns tuple, int : (maxCoords, maxVal)\n",
    "# maxCoords is the coordinates that yield the first found largest possible plus on the board\n",
    "def bestSquare(board):\n",
    "    dimRows = len(board)\n",
    "    dimCols = len(board[0])\n",
    "\n",
    "    maxDict = {}\n",
    "\n",
    "    maxCoords = (0, 0)\n",
    "    maxVal = 0\n",
    "    for i in range(dimRows):\n",
    "        for j in range(dimCols):\n",
    "            temp = maxPlusPossible(i, j, board)\n",
    "            if temp > maxVal:\n",
    "                maxVal = temp\n",
    "                maxCoords = i, j\n",
    "    return (maxCoords, maxVal)\n",
    "\n",
    "# Returns Tuple of 1.array of best possible squares, 2. the Max_Value\n",
    "def bestSquares(board):\n",
    "    dimRows = len(board)\n",
    "    dimCols = len(board[0])\n",
    "\n",
    "    maxDict = {}\n",
    "\n",
    "    maxCoords = (0, 0)\n",
    "    maxVal = 0\n",
    "    for i in range(dimRows):\n",
    "        for j in range(dimCols):\n",
    "            temp = maxPlusPossible(i, j, board)\n",
    "            maxDict[(i, j)] = temp\n",
    "\n",
    "    max_val = max(maxDict.values())\n",
    "    arr = [a for a, b in maxDict.items() if b == max_val]\n",
    "    return arr, max_val\n",
    "\n",
    "\n",
    "# returns New Board wherein the first Plus' coordinates are relabeled as BAD squares\n",
    "def shadeTheBoard(tupleCoords, maxValue, originalBoard):\n",
    "    r, c = tupleCoords\n",
    "    from copy import deepcopy\n",
    "    board = deepcopy(originalBoard)\n",
    "\n",
    "    dimRows = len(board)\n",
    "    dimCols = len(board[0])\n",
    "\n",
    "    ####### Max Right\n",
    "    i = 0\n",
    "    while i <= maxValue:\n",
    "        board[r][c + i] = 0\n",
    "        board[r][c - i] = 0\n",
    "        board[r + i][c] = 0\n",
    "        board[r - i][c] = 0\n",
    "\n",
    "        i += 1\n",
    "\n",
    "    return board\n",
    "\n",
    "def bestSquaresMinus1(board, val):\n",
    "    dimRows = len(board)\n",
    "    dimCols = len(board[0])\n",
    "\n",
    "    maxDict = {}\n",
    "\n",
    "    maxCoords = (0, 0)\n",
    "    maxVal = 0\n",
    "    for i in range(dimRows):\n",
    "        for j in range(dimCols):\n",
    "            temp = maxPlusPossible(i, j, board)\n",
    "            maxDict[(i, j)] = temp\n",
    "\n",
    "    arr = [a for a, b in maxDict.items() if b >= val]\n",
    "    return arr\n",
    "\n",
    "def helper(board):\n",
    "    maxCoordsArr, maxVal = bestSquares(board)\n",
    "    returnArr = []\n",
    "\n",
    "    for coordsTuple in maxCoordsArr:\n",
    "        secondBoard = shadeTheBoard(coordsTuple, maxVal, board)\n",
    "        secondMaxCoordsArr, secondMaxVal = bestSquares(secondBoard)\n",
    "        for secondCoordsTuple in secondMaxCoordsArr:\n",
    "            r, c = secondCoordsTuple\n",
    "            secondsecondMaxVal = maxPlusPossible(r, c, secondBoard)\n",
    "            computingPower = convertVal(maxVal) * convertVal(secondsecondMaxVal)\n",
    "            returnArr.append(computingPower)\n",
    "\n",
    "    return max(returnArr), maxVal\n",
    "\n",
    "def helper2(board, maxVal):\n",
    "    maxVal -= 1\n",
    "    maxCoordsArr = bestSquaresMinus1(board, maxVal)\n",
    "    returnArr = []\n",
    "\n",
    "    for coordsTuple in maxCoordsArr:\n",
    "        secondBoard = shadeTheBoard(coordsTuple, maxVal, board)\n",
    "        secondMaxCoordsArr, secondMaxVal = bestSquares(secondBoard)\n",
    "        for secondCoordsTuple in secondMaxCoordsArr:\n",
    "            r, c = secondCoordsTuple\n",
    "            secondsecondMaxVal = maxPlusPossible(r, c, secondBoard)\n",
    "            computingPower = convertVal(maxVal) * convertVal(secondsecondMaxVal)\n",
    "            returnArr.append(computingPower)\n",
    "    if returnArr:\n",
    "        return max(returnArr)\n",
    "    else:\n",
    "        return 0\n",
    "\n",
    "def helper3(board, maxVal):\n",
    "    maxVal -= 2\n",
    "    maxCoordsArr = bestSquaresMinus1(board, maxVal)\n",
    "    returnArr = []\n",
    "\n",
    "    for coordsTuple in maxCoordsArr:\n",
    "        secondBoard = shadeTheBoard(coordsTuple, maxVal, board)\n",
    "        secondMaxCoordsArr, secondMaxVal = bestSquares(secondBoard)\n",
    "        for secondCoordsTuple in secondMaxCoordsArr:\n",
    "            r, c = secondCoordsTuple\n",
    "            secondsecondMaxVal = maxPlusPossible(r, c, secondBoard)\n",
    "            computingPower = convertVal(maxVal) * convertVal(secondsecondMaxVal)\n",
    "            returnArr.append(computingPower)\n",
    "    if returnArr:\n",
    "        return max(returnArr)\n",
    "    else:\n",
    "        return 0\n",
    "\n",
    "def main(board):\n",
    "    greedyMaxStars, maxVal = helper(board)\n",
    "\n",
    "    nonGreedyMax = helper2(board, maxVal) if maxVal > 1 else 0\n",
    "    nonGreedyMax2 = helper3(board, maxVal) if maxVal > 2 else 0\n",
    "\n",
    "\n",
    "    ans = max([greedyMaxStars, nonGreedyMax, nonGreedyMax2])\n",
    "    print(ans)\n",
    "    return ans\n",
    "\n",
    "\n",
    "if __name__ == \"__main__\":\n",
    "    main(board)\n"
   ]
  },
  {
   "cell_type": "code",
   "execution_count": 1,
   "metadata": {
    "collapsed": true
   },
   "outputs": [],
   "source": [
    "# for the maxDict bit, collect ALL the best coordinates. Get the best ones!"
   ]
  },
  {
   "cell_type": "code",
   "execution_count": 113,
   "metadata": {},
   "outputs": [
    {
     "data": {
      "text/plain": [
       "[[0, 1, 0, 0, 1, 0],\n",
       " [1, 1, 1, 1, 1, 1],\n",
       " [0, 1, 0, 0, 1, 0],\n",
       " [1, 1, 1, 1, 1, 1],\n",
       " [0, 1, 0, 0, 1, 0],\n",
       " [0, 1, 0, 0, 1, 0]]"
      ]
     },
     "execution_count": 113,
     "metadata": {},
     "output_type": "execute_result"
    }
   ],
   "source": [
    "## Input Stuff\n",
    "\n",
    "inputString =\"\"\"\n",
    "BGBBGB\n",
    "GGGGGG\n",
    "BGBBGB\n",
    "GGGGGG\n",
    "BGBBGB\n",
    "BGBBGB\n",
    "\"\"\"\n",
    "\n",
    "board = [[1 if char == 'G' else 0  for char in line] for line in inputString.split()]\n",
    "board"
   ]
  },
  {
   "cell_type": "code",
   "execution_count": 118,
   "metadata": {
    "collapsed": true
   },
   "outputs": [],
   "source": [
    "# return the largest possible PLUS with the center square at row,col given constraints of good and bad squares,\n",
    "# and the boundaries of the square\n",
    "def maxPlusPossible(row, col, board):\n",
    "    dimRows = len(board)\n",
    "    dimCols = len(board[0])\n",
    "    \n",
    "    r, c = row, col\n",
    "    \n",
    "    ####### Max Right\n",
    "    i = 0\n",
    "    while c + i < dimCols and board[r][c + i] == 1:\n",
    "        i += 1\n",
    "    maxRight = i\n",
    "    \n",
    "    ######## Max Left\n",
    "    i = 0\n",
    "    while c - i >= 0 and board[r][c - i] == 1:\n",
    "        i += 1\n",
    "    maxLeft = i\n",
    "    \n",
    "    ###### Max Bottom\n",
    "    i = 0\n",
    "    while r + i < dimRows and board[r + i][c] == 1:\n",
    "        i += 1\n",
    "    maxBottom = i\n",
    "    \n",
    "    ##### Max Top\n",
    "    i = 0\n",
    "    while r - i >= 0 and board[r - i][c] == 1:\n",
    "        i += 1\n",
    "    maxTop = i\n",
    "    \n",
    "    arr = [maxTop,maxBottom, maxLeft, maxRight]\n",
    "    \n",
    "    largestPlusPossible = min(arr)\n",
    "    \n",
    "    return largestPlusPossible"
   ]
  },
  {
   "cell_type": "code",
   "execution_count": 95,
   "metadata": {},
   "outputs": [
    {
     "name": "stdout",
     "output_type": "stream",
     "text": [
      "Success!\n"
     ]
    }
   ],
   "source": [
    "# MaxPlusPossible Tests\n",
    "\n",
    "\n",
    "assert(maxPlusPossible(0,0,board) == 0)\n",
    "assert(maxPlusPossible(2,4,board) == 1)\n",
    "assert(maxPlusPossible(3,1,board) == 0)\n",
    "print(\"Success!\")"
   ]
  },
  {
   "cell_type": "code",
   "execution_count": 124,
   "metadata": {},
   "outputs": [],
   "source": [
    "def bestSquares(board):\n",
    "    dimRows = len(board)\n",
    "    dimCols = len(board[0])\n",
    "    \n",
    "    maxDict = {}\n",
    "    \n",
    "    maxCoords = (0, 0)\n",
    "    maxVal = 0\n",
    "    for i in range(dimRows):\n",
    "        for j in range(dimCols):\n",
    "            temp = maxPlusPossible(i, j, board)\n",
    "            maxDict[(i,j)] = temp\n",
    "            \n",
    "    max_val = max(maxDict.values())\n",
    "    arr = [a for a,b in maxDict.items() if b == max_val]       \n",
    "    return arr, max_val"
   ]
  },
  {
   "cell_type": "code",
   "execution_count": 125,
   "metadata": {},
   "outputs": [
    {
     "data": {
      "text/plain": [
       "([(1, 1), (1, 4), (3, 1), (3, 4)], 2)"
      ]
     },
     "execution_count": 125,
     "metadata": {},
     "output_type": "execute_result"
    }
   ],
   "source": [
    "bestSquares(board)"
   ]
  },
  {
   "cell_type": "code",
   "execution_count": 121,
   "metadata": {},
   "outputs": [
    {
     "data": {
      "text/plain": [
       "2"
      ]
     },
     "execution_count": 121,
     "metadata": {},
     "output_type": "execute_result"
    }
   ],
   "source": [
    "\n",
    "    \n"
   ]
  },
  {
   "cell_type": "code",
   "execution_count": null,
   "metadata": {
    "collapsed": true
   },
   "outputs": [],
   "source": []
  },
  {
   "cell_type": "code",
   "execution_count": 99,
   "metadata": {},
   "outputs": [],
   "source": [
    "coords, maxVal = bestSquare(board)\n",
    "row, col = coords"
   ]
  },
  {
   "cell_type": "code",
   "execution_count": 100,
   "metadata": {
    "collapsed": true
   },
   "outputs": [],
   "source": [
    "def shadeTheBoard(tupleCoords, maxValue, originalBoard):\n",
    "    r, c = tupleCoords\n",
    "    from copy import deepcopy\n",
    "    board = deepcopy(originalBoard)\n",
    "        \n",
    "    dimRows = len(board)\n",
    "    dimCols = len(board[0])\n",
    "    \n",
    "    ####### Max Right\n",
    "    i = 0\n",
    "    while i <= maxValue:\n",
    "        board[r][c + i] = 0\n",
    "        board[r][c - i] = 0\n",
    "        board[r + i][c] = 0\n",
    "        board[r - i][c] = 0\n",
    "        \n",
    "        i += 1\n",
    "        \n",
    "    return board"
   ]
  },
  {
   "cell_type": "code",
   "execution_count": 104,
   "metadata": {},
   "outputs": [
    {
     "data": {
      "text/plain": [
       "[[1, 1, 1, 1, 1, 1],\n",
       " [1, 0, 0, 0, 0, 0],\n",
       " [1, 1, 1, 0, 0, 0],\n",
       " [1, 1, 0, 0, 0, 0],\n",
       " [1, 1, 1, 1, 1, 1]]"
      ]
     },
     "execution_count": 104,
     "metadata": {},
     "output_type": "execute_result"
    }
   ],
   "source": [
    "secondBoard = shadeTheBoard(row, col, maxVal, board)\n",
    "secondBoard"
   ]
  },
  {
   "cell_type": "code",
   "execution_count": 105,
   "metadata": {},
   "outputs": [
    {
     "data": {
      "text/plain": [
       "[[1, 1, 1, 1, 1, 1],\n",
       " [1, 0, 0, 0, 1, 0],\n",
       " [1, 1, 1, 1, 1, 1],\n",
       " [1, 1, 0, 0, 1, 0],\n",
       " [1, 1, 1, 1, 1, 1]]"
      ]
     },
     "execution_count": 105,
     "metadata": {},
     "output_type": "execute_result"
    }
   ],
   "source": [
    "board"
   ]
  },
  {
   "cell_type": "markdown",
   "metadata": {},
   "source": [
    "# Repeat steps on secondBoard!"
   ]
  },
  {
   "cell_type": "code",
   "execution_count": 107,
   "metadata": {},
   "outputs": [
    {
     "data": {
      "text/plain": [
       "0"
      ]
     },
     "execution_count": 107,
     "metadata": {},
     "output_type": "execute_result"
    }
   ],
   "source": [
    "_, maxSecondVal = bestSquare(secondBoard)\n",
    "maxSecondVal"
   ]
  },
  {
   "cell_type": "code",
   "execution_count": 108,
   "metadata": {
    "collapsed": true
   },
   "outputs": [],
   "source": [
    "def convertVal(x):\n",
    "    return 1 + 4*x"
   ]
  },
  {
   "cell_type": "code",
   "execution_count": 110,
   "metadata": {},
   "outputs": [
    {
     "data": {
      "text/plain": [
       "5"
      ]
     },
     "execution_count": 110,
     "metadata": {},
     "output_type": "execute_result"
    }
   ],
   "source": [
    "convertVal(maxVal)"
   ]
  },
  {
   "cell_type": "code",
   "execution_count": 112,
   "metadata": {},
   "outputs": [
    {
     "data": {
      "text/plain": [
       "1"
      ]
     },
     "execution_count": 112,
     "metadata": {},
     "output_type": "execute_result"
    }
   ],
   "source": [
    "convertVal(maxSecondVal)"
   ]
  },
  {
   "cell_type": "code",
   "execution_count": null,
   "metadata": {
    "collapsed": true
   },
   "outputs": [],
   "source": []
  }
 ],
 "metadata": {
  "kernelspec": {
   "display_name": "Python 3",
   "language": "python",
   "name": "python3"
  },
  "language_info": {
   "codemirror_mode": {
    "name": "ipython",
    "version": 3
   },
   "file_extension": ".py",
   "mimetype": "text/x-python",
   "name": "python",
   "nbconvert_exporter": "python",
   "pygments_lexer": "ipython3",
   "version": "3.6.5"
  }
 },
 "nbformat": 4,
 "nbformat_minor": 2
}
