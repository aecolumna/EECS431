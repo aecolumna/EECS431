{
 "cells": [
  {
   "cell_type": "code",
   "execution_count": 1,
   "metadata": {
    "collapsed": true
   },
   "outputs": [],
   "source": []
  },
  {
   "cell_type": "code",
   "execution_count": 89,
   "metadata": {},
   "outputs": [
    {
     "data": {
      "text/plain": [
       "[[1, 1, 1, 1, 1, 1],\n",
       " [1, 0, 0, 0, 1, 0],\n",
       " [1, 1, 1, 1, 1, 1],\n",
       " [1, 1, 0, 0, 1, 0],\n",
       " [1, 1, 1, 1, 1, 1]]"
      ]
     },
     "execution_count": 89,
     "metadata": {},
     "output_type": "execute_result"
    }
   ],
   "source": [
    "## Input Stuff\n",
    "\n",
    "inputString =\"\"\"\n",
    "GGGGGG\n",
    "GBBBGB\n",
    "GGGGGG\n",
    "GGBBGB\n",
    "GGGGGG\n",
    "\"\"\"\n",
    "\n",
    "board = [[1 if char == 'G' else 0  for char in line] for line in inputString.split()]\n",
    "board"
   ]
  },
  {
   "cell_type": "code",
   "execution_count": 94,
   "metadata": {
    "collapsed": true
   },
   "outputs": [],
   "source": [
    "# return the largest possible PLUS with the center square at row,col given constraints of good and bad squares,\n",
    "# and the boundaries of the square\n",
    "def maxPlusPossible(row, col, board):\n",
    "    dimRows = len(board)\n",
    "    dimCols = len(board[0])\n",
    "    \n",
    "    r, c = row, col\n",
    "    \n",
    "    ####### Max Right\n",
    "    i = 0\n",
    "    while c + i < dimCols and board[r][c + i] == 1:\n",
    "        i += 1\n",
    "    maxRight = i\n",
    "    \n",
    "    ######## Max Left\n",
    "    i = 0\n",
    "    while c - i >= 0 and board[r][c - i] == 1:\n",
    "        i += 1\n",
    "    maxLeft = i\n",
    "    \n",
    "    ###### Max Bottom\n",
    "    i = 0\n",
    "    while r + i < dimRows and board[r + i][c] == 1:\n",
    "        i += 1\n",
    "    maxBottom = i\n",
    "    \n",
    "    ##### Max Top\n",
    "    i = 0\n",
    "    while r - i >= 0 and board[r - i][c] == 1:\n",
    "        i += 1\n",
    "    maxTop = i\n",
    "    \n",
    "    arr = [maxTop,maxBottom, maxLeft, maxRight]\n",
    "    \n",
    "    largestPlusPossible = min(arr) - 1\n",
    "    \n",
    "    return largestPlusPossible"
   ]
  },
  {
   "cell_type": "code",
   "execution_count": 95,
   "metadata": {},
   "outputs": [
    {
     "name": "stdout",
     "output_type": "stream",
     "text": [
      "Success!\n"
     ]
    }
   ],
   "source": [
    "# MaxPlusPossible Tests\n",
    "\n",
    "board = [[1, 1, 1, 1, 1, 1],\n",
    "         [1, 0, 0, 0, 1, 0],\n",
    "         [1, 1, 1, 1, 1, 1],\n",
    "         [1, 1, 0, 0, 1, 0],\n",
    "         [1, 1, 1, 1, 1, 1]]\n",
    "\n",
    "assert(maxPlusPossible(0,0,board) == 0)\n",
    "assert(maxPlusPossible(2,4,board) == 1)\n",
    "assert(maxPlusPossible(3,1,board) == 0)\n",
    "print(\"Success!\")"
   ]
  },
  {
   "cell_type": "code",
   "execution_count": 96,
   "metadata": {},
   "outputs": [],
   "source": [
    "def bestSquare(board):\n",
    "    dimRows = len(board)\n",
    "    dimCols = len(board[0])\n",
    "    \n",
    "    maxDict = {}\n",
    "    \n",
    "    maxCoords = (0, 0)\n",
    "    maxVal = 0\n",
    "    for i in range(dimRows):\n",
    "        for j in range(dimCols):\n",
    "            temp = maxPlusPossible(i, j, board)\n",
    "            if temp > maxVal:\n",
    "                maxVal = temp\n",
    "                maxCoords = i, j\n",
    "    return (maxCoords, maxVal)"
   ]
  },
  {
   "cell_type": "code",
   "execution_count": 86,
   "metadata": {},
   "outputs": [],
   "source": [
    "maxCoords = (0, 0)\n",
    "maxVal = 0\n",
    "for a,b in maxDict.items():\n",
    "    if b > maxVal:\n",
    "        maxCoords = a\n",
    "        maxVal = b"
   ]
  },
  {
   "cell_type": "code",
   "execution_count": 99,
   "metadata": {},
   "outputs": [],
   "source": [
    "coords, maxVal = bestSquare(board)\n",
    "row, col = coords"
   ]
  },
  {
   "cell_type": "code",
   "execution_count": 100,
   "metadata": {
    "collapsed": true
   },
   "outputs": [],
   "source": [
    "def shadeTheBoard(row, col, maxValue, originalBoard):\n",
    "    r, c = row, col\n",
    "    from copy import deepcopy\n",
    "    board = deepcopy(originalBoard)\n",
    "        \n",
    "    dimRows = len(board)\n",
    "    dimCols = len(board[0])\n",
    "    \n",
    "    ####### Max Right\n",
    "    i = 0\n",
    "    while i <= maxValue:\n",
    "        board[r][c + i] = 0\n",
    "        board[r][c - i] = 0\n",
    "        board[r + i][c] = 0\n",
    "        board[r - i][c] = 0\n",
    "        \n",
    "        i += 1\n",
    "        \n",
    "    return board"
   ]
  },
  {
   "cell_type": "code",
   "execution_count": 98,
   "metadata": {
    "collapsed": true
   },
   "outputs": [],
   "source": []
  },
  {
   "cell_type": "code",
   "execution_count": null,
   "metadata": {
    "collapsed": true
   },
   "outputs": [],
   "source": []
  }
 ],
 "metadata": {
  "kernelspec": {
   "display_name": "Python 3",
   "language": "python",
   "name": "python3"
  },
  "language_info": {
   "codemirror_mode": {
    "name": "ipython",
    "version": 3
   },
   "file_extension": ".py",
   "mimetype": "text/x-python",
   "name": "python",
   "nbconvert_exporter": "python",
   "pygments_lexer": "ipython3",
   "version": "3.6.3"
  }
 },
 "nbformat": 4,
 "nbformat_minor": 2
}
