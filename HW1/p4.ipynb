{
 "cells": [
  {
   "cell_type": "code",
   "execution_count": 11,
   "metadata": {
    "collapsed": true
   },
   "outputs": [],
   "source": [
    "def games(n, m, c):\n",
    "    totalGames = 0\n",
    "    games = n // m\n",
    "    totalGames += games\n",
    "\n",
    "    residualGames = games\n",
    "    while residualGames >= c:\n",
    "        newGames = residualGames // c\n",
    "        remainingGames = residualGames%c\n",
    "\n",
    "        totalGames += newGames\n",
    "        residualGames = newGames + remainingGames\n",
    "        \n",
    "    return totalGames"
   ]
  },
  {
   "cell_type": "code",
   "execution_count": 14,
   "metadata": {},
   "outputs": [
    {
     "data": {
      "text/plain": [
       "136"
      ]
     },
     "execution_count": 14,
     "metadata": {},
     "output_type": "execute_result"
    }
   ],
   "source": [
    "assert(games(10, 2, 5) == 6)\n",
    "assert(games(12, 4, 4) == 3)\n",
    "assert(games(6, 2, 2) == 5)\n",
    "games(16809, 123, 11668)\n"
   ]
  },
  {
   "cell_type": "code",
   "execution_count": 10,
   "metadata": {},
   "outputs": [
    {
     "data": {
      "text/plain": [
       "6"
      ]
     },
     "execution_count": 10,
     "metadata": {},
     "output_type": "execute_result"
    }
   ],
   "source": [
    "n = 10 #ideas\n",
    "m = 2 #ideas per game\n",
    "c = 5 #residual games per game\n",
    "totalGames = 0\n",
    "games = n // m\n",
    "totalGames += games\n",
    "\n",
    "residualGames = games\n",
    "while residualGames >= c:\n",
    "    newGames = residualGames // c\n",
    "    remainingGames = residualGames%c\n",
    "    \n",
    "    totalGames += newGames\n",
    "    residualGames = newGames + remainingGames\n",
    "\n",
    "totalGames"
   ]
  },
  {
   "cell_type": "code",
   "execution_count": 4,
   "metadata": {},
   "outputs": [
    {
     "data": {
      "text/plain": [
       "2"
      ]
     },
     "execution_count": 4,
     "metadata": {},
     "output_type": "execute_result"
    }
   ],
   "source": [
    "remaindingIdeas "
   ]
  },
  {
   "cell_type": "code",
   "execution_count": null,
   "metadata": {
    "collapsed": true
   },
   "outputs": [],
   "source": [
    "#divide by 2,everytime"
   ]
  },
  {
   "cell_type": "code",
   "execution_count": 5,
   "metadata": {},
   "outputs": [
    {
     "data": {
      "text/plain": [
       "(3, 2)"
      ]
     },
     "execution_count": 5,
     "metadata": {},
     "output_type": "execute_result"
    }
   ],
   "source": [
    "divmod(17, 5)"
   ]
  },
  {
   "cell_type": "code",
   "execution_count": 17,
   "metadata": {},
   "outputs": [],
   "source": [
    "correctString = string1.split()"
   ]
  },
  {
   "cell_type": "code",
   "execution_count": 18,
   "metadata": {
    "collapsed": true
   },
   "outputs": [],
   "source": [
    "mystring = \"\"\"136\n",
    "1\n",
    "224\n",
    "584\n",
    "102\n",
    "292\n",
    "207\n",
    "175\n",
    "193\n",
    "183\n",
    "3\n",
    "108\n",
    "118\n",
    "1\n",
    "1\n",
    "604\n",
    "243\n",
    "252\n",
    "402\n",
    "2\n",
    "1164\n",
    "124\n",
    "102\n",
    "281\n",
    "723\n",
    "208\n",
    "4830\n",
    "2\n",
    "220\n",
    "1581\n",
    "285\n",
    "13\n",
    "238\n",
    "53\n",
    "1\n",
    "638\n",
    "107\n",
    "342\n",
    "2072\n",
    "2\n",
    "440\n",
    "104\n",
    "265\n",
    "101\n",
    "403\n",
    "132\n",
    "122\n",
    "1\n",
    "132\n",
    "118\n",
    "146\n",
    "186\n",
    "158\n",
    "147\n",
    "101\n",
    "1\n",
    "137\n",
    "1546\n",
    "2\n",
    "102\n",
    "298\n",
    "133\n",
    "116\n",
    "1488\n",
    "273\n",
    "113\n",
    "111\n",
    "152\n",
    "1\n",
    "1\n",
    "2\n",
    "131\n",
    "216\n",
    "131\n",
    "258\n",
    "1\n",
    "1\n",
    "296\n",
    "1\n",
    "6459\n",
    "10253\n",
    "127\n",
    "1\n",
    "1\n",
    "2\n",
    "107\n",
    "189\n",
    "221\n",
    "3\n",
    "121\n",
    "289\n",
    "106\n",
    "174\n",
    "321\n",
    "111\n",
    "795\n",
    "136\n",
    "1\n",
    "2\n",
    "436\n",
    "470\n",
    "435\n",
    "132\n",
    "507\n",
    "107\n",
    "2390\n",
    "1\n",
    "112\n",
    "3\n",
    "116\n",
    "105\n",
    "467\n",
    "136\n",
    "121\n",
    "233\n",
    "3538\n",
    "107\n",
    "140\n",
    "111\n",
    "145\n",
    "112\n",
    "780\n",
    "1\n",
    "2\n",
    "137\n",
    "1\n",
    "233\n",
    "1\n",
    "10003\n",
    "240\n",
    "360\n",
    "277\n",
    "412\n",
    "2\n",
    "1\n",
    "1\n",
    "104\n",
    "1\n",
    "100\n",
    "1\n",
    "190\n",
    "298\n",
    "404\n",
    "113\n",
    "132\n",
    "2\n",
    "1010\n",
    "1\n",
    "188\n",
    "268\n",
    "1780\n",
    "1\n",
    "104\n",
    "131\n",
    "165\n",
    "147\n",
    "1\n",
    "104\n",
    "6\n",
    "552\n",
    "579\n",
    "263\n",
    "3485\n",
    "275\n",
    "2437\n",
    "7\n",
    "277\n",
    "141\n",
    "214\n",
    "120\n",
    "120\n",
    "113\n",
    "115\n",
    "3\n",
    "1\n",
    "2\n",
    "103\n",
    "171\n",
    "113\n",
    "104\n",
    "347\n",
    "306\n",
    "237\n",
    "591\n",
    "156\n",
    "11\n",
    "2010\n",
    "582\n",
    "5\n",
    "1295\n",
    "3\n",
    "110\n",
    "148\n",
    "1\n",
    "1\n",
    "136\n",
    "192\n",
    "330\n",
    "229\n",
    "153\"\"\".split()"
   ]
  },
  {
   "cell_type": "code",
   "execution_count": 20,
   "metadata": {},
   "outputs": [
    {
     "data": {
      "text/plain": [
       "True"
      ]
     },
     "execution_count": 20,
     "metadata": {},
     "output_type": "execute_result"
    }
   ],
   "source": [
    "mystring == correctString"
   ]
  },
  {
   "cell_type": "code",
   "execution_count": null,
   "metadata": {
    "collapsed": true
   },
   "outputs": [],
   "source": []
  }
 ],
 "metadata": {
  "kernelspec": {
   "display_name": "Python 3",
   "language": "python",
   "name": "python3"
  },
  "language_info": {
   "codemirror_mode": {
    "name": "ipython",
    "version": 3
   },
   "file_extension": ".py",
   "mimetype": "text/x-python",
   "name": "python",
   "nbconvert_exporter": "python",
   "pygments_lexer": "ipython3",
   "version": "3.6.5"
  }
 },
 "nbformat": 4,
 "nbformat_minor": 2
}
