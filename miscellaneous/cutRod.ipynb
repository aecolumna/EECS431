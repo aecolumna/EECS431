{
 "cells": [
  {
   "cell_type": "code",
   "execution_count": 5,
   "metadata": {},
   "outputs": [],
   "source": [
    "prices = [0, 1, 5, 8, 9, 10, 17, 17, 20, 24, 30]"
   ]
  },
  {
   "cell_type": "code",
   "execution_count": 6,
   "metadata": {},
   "outputs": [],
   "source": [
    "pricesDict = {i: prices[i] for i in range(len(prices))}"
   ]
  },
  {
   "cell_type": "code",
   "execution_count": 7,
   "metadata": {},
   "outputs": [
    {
     "data": {
      "text/plain": [
       "{0: 0, 1: 1, 2: 5, 3: 8, 4: 9, 5: 10, 6: 17, 7: 17, 8: 20, 9: 24, 10: 30}"
      ]
     },
     "execution_count": 7,
     "metadata": {},
     "output_type": "execute_result"
    }
   ],
   "source": [
    "pricesDict"
   ]
  },
  {
   "cell_type": "code",
   "execution_count": 8,
   "metadata": {},
   "outputs": [
    {
     "data": {
      "text/plain": [
       "1"
      ]
     },
     "execution_count": 8,
     "metadata": {},
     "output_type": "execute_result"
    }
   ],
   "source": [
    "pricesDict[1]"
   ]
  },
  {
   "cell_type": "code",
   "execution_count": 27,
   "metadata": {},
   "outputs": [],
   "source": [
    "def cutrod(n):\n",
    "    if n == 0:\n",
    "        return 0\n",
    "    elif n == 1:\n",
    "        return pricesDict[1]\n",
    "    maxVal = -1\n",
    "    for i in range(1, n+1):\n",
    "        maxVal = max(maxVal, pricesDict[i] + cutrod(n-i))\n",
    "        \n",
    "    return maxVal"
   ]
  },
  {
   "cell_type": "code",
   "execution_count": 18,
   "metadata": {},
   "outputs": [
    {
     "data": {
      "text/plain": [
       "22"
      ]
     },
     "execution_count": 18,
     "metadata": {},
     "output_type": "execute_result"
    }
   ],
   "source": [
    "cutrod(8)"
   ]
  },
  {
   "cell_type": "code",
   "execution_count": 26,
   "metadata": {},
   "outputs": [],
   "source": [
    "memo = {}\n",
    "def mCutrod(n):\n",
    "    \n",
    "    if n in memo:\n",
    "        return memo[n]\n",
    "    \n",
    "    if n == 0:\n",
    "        f = 0\n",
    "    \n",
    "    elif n == 1:\n",
    "        f = pricesDict[1]\n",
    "    \n",
    "    else:\n",
    "        maxVal = -1\n",
    "        for i in range(1, n+1):\n",
    "            maxVal = max(maxVal, pricesDict[i] + mCutrod(n-i))\n",
    "        f = maxVal\n",
    "    memo[n] = f\n",
    "\n",
    "    return f"
   ]
  },
  {
   "cell_type": "code",
   "execution_count": 22,
   "metadata": {},
   "outputs": [
    {
     "data": {
      "text/plain": [
       "22"
      ]
     },
     "execution_count": 22,
     "metadata": {},
     "output_type": "execute_result"
    }
   ],
   "source": [
    "mCutrod(8)"
   ]
  },
  {
   "cell_type": "code",
   "execution_count": 23,
   "metadata": {},
   "outputs": [
    {
     "data": {
      "text/plain": [
       "1"
      ]
     },
     "execution_count": 23,
     "metadata": {},
     "output_type": "execute_result"
    }
   ],
   "source": [
    "mCutrod(1)"
   ]
  },
  {
   "cell_type": "code",
   "execution_count": 24,
   "metadata": {},
   "outputs": [
    {
     "data": {
      "text/plain": [
       "0"
      ]
     },
     "execution_count": 24,
     "metadata": {},
     "output_type": "execute_result"
    }
   ],
   "source": [
    "mCutrod(0)"
   ]
  },
  {
   "cell_type": "code",
   "execution_count": 33,
   "metadata": {},
   "outputs": [
    {
     "name": "stdout",
     "output_type": "stream",
     "text": [
      "408 µs ± 10.4 µs per loop (mean ± std. dev. of 7 runs, 1000 loops each)\n"
     ]
    }
   ],
   "source": [
    "%%timeit\n",
    "\n",
    "pricesDict = {0: 0, 1: 1, 2: 5, 3: 8, 4: 9, 5: 10, 6: 17, 7: 17, 8: 20, 9: 24, 10: 30}\n",
    "for i in range(10):\n",
    "    cutrod(i)"
   ]
  },
  {
   "cell_type": "code",
   "execution_count": 34,
   "metadata": {},
   "outputs": [
    {
     "name": "stdout",
     "output_type": "stream",
     "text": [
      "2.73 µs ± 36.8 ns per loop (mean ± std. dev. of 7 runs, 100000 loops each)\n"
     ]
    }
   ],
   "source": [
    "%%timeit\n",
    "\n",
    "pricesDict = {0: 0, 1: 1, 2: 5, 3: 8, 4: 9, 5: 10, 6: 17, 7: 17, 8: 20, 9: 24, 10: 30}\n",
    "for i in range(10):\n",
    "    mCutrod(i)"
   ]
  },
  {
   "cell_type": "code",
   "execution_count": 35,
   "metadata": {},
   "outputs": [],
   "source": [
    "[2,5,3,7,8].sort()"
   ]
  },
  {
   "cell_type": "code",
   "execution_count": 36,
   "metadata": {},
   "outputs": [],
   "source": [
    "lst = [2,3,5,6,2,1,2,3]"
   ]
  },
  {
   "cell_type": "code",
   "execution_count": 37,
   "metadata": {},
   "outputs": [],
   "source": [
    "lst.sort()"
   ]
  },
  {
   "cell_type": "code",
   "execution_count": 38,
   "metadata": {},
   "outputs": [
    {
     "data": {
      "text/plain": [
       "[1, 2, 2, 2, 3, 3, 5, 6]"
      ]
     },
     "execution_count": 38,
     "metadata": {},
     "output_type": "execute_result"
    }
   ],
   "source": [
    "lst"
   ]
  },
  {
   "cell_type": "code",
   "execution_count": 39,
   "metadata": {},
   "outputs": [
    {
     "data": {
      "text/plain": [
       "[]"
      ]
     },
     "execution_count": 39,
     "metadata": {},
     "output_type": "execute_result"
    }
   ],
   "source": [
    "list(range(5,2))"
   ]
  },
  {
   "cell_type": "code",
   "execution_count": 56,
   "metadata": {},
   "outputs": [],
   "source": [
    "def change(amount_i, coins):\n",
    "    \n",
    "    combinations = [0] * (amount_i + 1) # initialize empty array to hold combinations\n",
    "    combinations[0] = 1 # set first value to 1\n",
    "    \n",
    "    for coin in coins:\n",
    "        for amount in range(1, len(combinations)):\n",
    "            if amount >= coin:\n",
    "                combinations[amount] += combinations[amount - coin]\n",
    "            \n",
    "    print(\"Answer: \", factorial(combinations[-1]))\n",
    "    return combinations"
   ]
  },
  {
   "cell_type": "code",
   "execution_count": 74,
   "metadata": {},
   "outputs": [],
   "source": [
    "def change(amount_i, coins):\n",
    "    from math import factorial\n",
    "    \n",
    "    combinations = [0] * (amount_i + 1) # initialize empty array to hold combinations\n",
    "    combinations[0] = 1 # set first value to 1\n",
    "    \n",
    "    for coin in coins:\n",
    "        for amount in range(coin, len(combinations)):\n",
    "                combinations[amount] += combinations[amount - coin]\n",
    "            \n",
    "    \n",
    "    return combinations"
   ]
  },
  {
   "cell_type": "code",
   "execution_count": 71,
   "metadata": {},
   "outputs": [],
   "source": [
    "from math import factorial"
   ]
  },
  {
   "cell_type": "code",
   "execution_count": 76,
   "metadata": {},
   "outputs": [
    {
     "name": "stdout",
     "output_type": "stream",
     "text": [
      "Answer:  120\n",
      "0 : 1\n",
      "1 : 1\n",
      "2 : 2\n",
      "3 : 3\n",
      "4 : 5\n"
     ]
    }
   ],
   "source": [
    "coins = [1, 2, 3, 4]\n",
    "lst = change(4, coins)\n",
    "\n",
    "for a,b in enumerate(lst):\n",
    "    print(a, \":\",b)"
   ]
  },
  {
   "cell_type": "code",
   "execution_count": 68,
   "metadata": {},
   "outputs": [
    {
     "name": "stdout",
     "output_type": "stream",
     "text": [
      "[1, 1, 2, 2, 3, 4, 5, 6, 7, 8, 10, 11, 13, 14, 16, 18, 20, 22, 24, 26, 29, 31, 34, 36, 39, 42]\n",
      "0 : 1\n",
      "1 : 1\n",
      "2 : 2\n",
      "3 : 2\n",
      "4 : 3\n",
      "5 : 4\n",
      "6 : 5\n",
      "7 : 6\n",
      "8 : 7\n",
      "9 : 8\n",
      "10 : 10\n",
      "11 : 11\n",
      "12 : 13\n",
      "13 : 14\n",
      "14 : 16\n",
      "15 : 18\n",
      "16 : 20\n",
      "17 : 22\n",
      "18 : 24\n",
      "19 : 26\n",
      "20 : 29\n",
      "21 : 31\n",
      "22 : 34\n",
      "23 : 36\n",
      "24 : 39\n",
      "25 : 42\n"
     ]
    }
   ],
   "source": [
    "coins = [1, 2, 5]\n",
    "lst = change(25, coins)\n",
    "\n",
    "for a,b in enumerate(lst):\n",
    "    print(a, \":\",b)"
   ]
  },
  {
   "cell_type": "code",
   "execution_count": 64,
   "metadata": {},
   "outputs": [
    {
     "name": "stdout",
     "output_type": "stream",
     "text": [
      "[1, 1, 1, 1, 1, 2, 2, 2, 2, 2, 3, 3, 3]\n",
      "0 : 1\n",
      "1 : 1\n",
      "2 : 1\n",
      "3 : 1\n",
      "4 : 1\n",
      "5 : 2\n",
      "6 : 2\n",
      "7 : 2\n",
      "8 : 2\n",
      "9 : 2\n",
      "10 : 3\n",
      "11 : 3\n",
      "12 : 3\n"
     ]
    }
   ],
   "source": [
    "lst = change(12, coins)\n",
    "\n",
    "for a,b in enumerate(lst):\n",
    "    print(a, \":\",b)"
   ]
  },
  {
   "cell_type": "code",
   "execution_count": 61,
   "metadata": {},
   "outputs": [
    {
     "name": "stdout",
     "output_type": "stream",
     "text": [
      "[1, 1, 1, 1, 1, 2, 2, 2, 2, 2, 3, 3, 3]\n",
      "0 1\n",
      "1 1\n",
      "2 1\n",
      "3 1\n",
      "4 1\n",
      "5 2\n",
      "6 2\n",
      "7 2\n",
      "8 2\n",
      "9 2\n",
      "10 3\n",
      "11 3\n",
      "12 3\n"
     ]
    }
   ],
   "source": [
    "lst = change(12, coins)\n",
    "\n",
    "for a,b in enumerate(lst):\n",
    "    print(a, b)"
   ]
  },
  {
   "cell_type": "code",
   "execution_count": null,
   "metadata": {},
   "outputs": [],
   "source": [
    "def change(amount_i, coins):\n",
    "    \n",
    "    combinations = [0] * (amount_i + 1) # initialize empty array to hold combinations\n",
    "    combinations[0] = 1 # set first value to 1\n",
    "    \n",
    "    for coin in coins:\n",
    "        for amount in range(1, len(combinations)):\n",
    "            if amount >= coin:\n",
    "                combinations[amount] += combinations[amount - coin]\n",
    "            \n",
    "    print(\"Answer: \", factorial(combinations[-1]))\n",
    "    return combinations"
   ]
  }
 ],
 "metadata": {
  "kernelspec": {
   "display_name": "Python 3",
   "language": "python",
   "name": "python3"
  },
  "language_info": {
   "codemirror_mode": {
    "name": "ipython",
    "version": 3
   },
   "file_extension": ".py",
   "mimetype": "text/x-python",
   "name": "python",
   "nbconvert_exporter": "python",
   "pygments_lexer": "ipython3",
   "version": "3.6.5"
  }
 },
 "nbformat": 4,
 "nbformat_minor": 2
}
