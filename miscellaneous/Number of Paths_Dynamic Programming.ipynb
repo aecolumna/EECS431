{
 "cells": [
  {
   "cell_type": "code",
   "execution_count": 1,
   "metadata": {},
   "outputs": [],
   "source": [
    "board = [[0, 1, 0, 0, 0, 0, 0, 0],\n",
    "         [0, 0, 0, 0, 0, 0, 0, 0],\n",
    "         [1, 1, 0, 0, 0, 0, 0, 0],\n",
    "         [0, 0, 1, 0, 0, 0, 0, 0],\n",
    "         [0, 0, 0, 0, 1, 1, 0, 0],\n",
    "         [0, 0, 0, 0, 0, 1, 0, 0],\n",
    "         [0, 0, 0, 0, 1, 0, 0, 0],\n",
    "         [0, 0, 0, 0, 0, 0, 0, 0]]"
   ]
  },
  {
   "cell_type": "code",
   "execution_count": null,
   "metadata": {},
   "outputs": [],
   "source": [
    "def search(start, end):\n",
    "    if start == end:  # base case\n",
    "        print(stack)\n",
    "        return\n",
    "\n",
    "    dim = len(board[0])\n",
    "    nextRow = (start[0] + 1, start[1])\n",
    "    nextCol = (start[0], start[1] + 1)\n",
    "\n",
    "    row = start[0]\n",
    "    col = start[1]\n",
    "\n",
    "    if row < dim - 1 and board[row + 1][col] == 0:\n",
    "        stack.append(start)\n",
    "        search(nextRow, end)\n",
    "        stack.pop()\n",
    "\n",
    "\n",
    "    if col < dim - 1 :\n",
    "        stack.append(start)\n",
    "        search(nextCol, end)\n",
    "        stack.pop()"
   ]
  }
 ],
 "metadata": {
  "kernelspec": {
   "display_name": "Python 3",
   "language": "python",
   "name": "python3"
  },
  "language_info": {
   "codemirror_mode": {
    "name": "ipython",
    "version": 3
   },
   "file_extension": ".py",
   "mimetype": "text/x-python",
   "name": "python",
   "nbconvert_exporter": "python",
   "pygments_lexer": "ipython3",
   "version": "3.6.5"
  }
 },
 "nbformat": 4,
 "nbformat_minor": 2
}
