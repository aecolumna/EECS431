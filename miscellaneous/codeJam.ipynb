{
 "cells": [
  {
   "cell_type": "code",
   "execution_count": null,
   "metadata": {},
   "outputs": [],
   "source": [
    "2 : number of buses probably ignore\n",
    "4 : ignore!\n",
    "15-25 30-35 45-50 10-20 : range of buses\n",
    "2 : number of cities were interested in\n",
    "15\n",
    "25"
   ]
  },
  {
   "cell_type": "code",
   "execution_count": 15,
   "metadata": {},
   "outputs": [],
   "source": [
    "ranges_arr = [15,25,30,35,45,50,10,20]\n",
    "\n",
    "bus_arr = []\n",
    "i = 0\n",
    "\n",
    "# set up the buses\n",
    "while i < len(ranges_arr):\n",
    "    bus_arr.append(Bus(ranges_arr[i], ranges_arr[i+1]))\n",
    "    i += 2"
   ]
  },
  {
   "cell_type": "code",
   "execution_count": null,
   "metadata": {},
   "outputs": [],
   "source": [
    "In Sample Case #1, there are four GBuses. \n",
    "The first serves cities 15 through 25, the second serves cities 30 through 35, \n",
    "the third serves cities 45 through 50, and the fourth serves cities 10 through 20. City 15 is served by the first and fourth buses, so the first number in our answer list is 2. \n",
    "City 25 is served by only the first bus, so the second number in our answer list is 1."
   ]
  },
  {
   "cell_type": "code",
   "execution_count": 16,
   "metadata": {},
   "outputs": [
    {
     "data": {
      "text/plain": [
       "[<__main__.Bus at 0x10b625128>,\n",
       " <__main__.Bus at 0x10b625198>,\n",
       " <__main__.Bus at 0x10b6251d0>,\n",
       " <__main__.Bus at 0x10b625208>]"
      ]
     },
     "execution_count": 16,
     "metadata": {},
     "output_type": "execute_result"
    }
   ],
   "source": []
  },
  {
   "cell_type": "code",
   "execution_count": 24,
   "metadata": {},
   "outputs": [],
   "source": [
    "class Bus:\n",
    "    def __init__(self, start, end):\n",
    "        self.start_range = start\n",
    "        self.end_range = end"
   ]
  },
  {
   "cell_type": "code",
   "execution_count": 25,
   "metadata": {},
   "outputs": [],
   "source": [
    "class City:\n",
    "    def __init__(self, num):\n",
    "        self.num = num\n",
    "        \n",
    "    def served(self, bus):\n",
    "        if self.num <= bus.end_range and self.num >= bus.start_range:\n",
    "            return True\n",
    "        return False"
   ]
  },
  {
   "cell_type": "code",
   "execution_count": 10,
   "metadata": {},
   "outputs": [],
   "source": [
    "bus1 = Bus(15, 25)"
   ]
  },
  {
   "cell_type": "code",
   "execution_count": 11,
   "metadata": {},
   "outputs": [],
   "source": [
    "city1 = City(25)"
   ]
  },
  {
   "cell_type": "code",
   "execution_count": 12,
   "metadata": {},
   "outputs": [
    {
     "data": {
      "text/plain": [
       "True"
      ]
     },
     "execution_count": 12,
     "metadata": {},
     "output_type": "execute_result"
    }
   ],
   "source": [
    "city1.served(bus1)"
   ]
  },
  {
   "cell_type": "code",
   "execution_count": null,
   "metadata": {},
   "outputs": [],
   "source": [
    "2\n",
    "4\n",
    "15 25 30 35 45 50 10 20\n",
    "2\n",
    "15\n",
    "25"
   ]
  },
  {
   "cell_type": "code",
   "execution_count": 19,
   "metadata": {},
   "outputs": [],
   "source": [
    "citynum_arr = [15, 25]"
   ]
  },
  {
   "cell_type": "code",
   "execution_count": 21,
   "metadata": {},
   "outputs": [
    {
     "data": {
      "text/plain": [
       "2"
      ]
     },
     "execution_count": 21,
     "metadata": {},
     "output_type": "execute_result"
    }
   ],
   "source": [
    "cityNum = 15\n",
    "mycity = City(15)\n",
    "counter = 0\n",
    "for bus in bus_arr:\n",
    "    if mycity.served(bus):\n",
    "        counter += 1\n",
    "counter"
   ]
  },
  {
   "cell_type": "markdown",
   "metadata": {},
   "source": [
    "2\n",
    "4\n",
    "15 25 30 35 45 50 10 20\n",
    "2\n",
    "15\n",
    "25"
   ]
  },
  {
   "cell_type": "code",
   "execution_count": 28,
   "metadata": {},
   "outputs": [],
   "source": [
    "class Bus:\n",
    "    def __init__(self, start, end):\n",
    "        self.start_range = start\n",
    "        self.end_range = end\n",
    "\n",
    "class City:\n",
    "    def __init__(self, num):\n",
    "        self.num = num\n",
    "        \n",
    "    def served(self, bus):\n",
    "        if self.num <= bus.end_range and self.num >= bus.start_range:\n",
    "            return True\n",
    "        return False\n",
    "\n",
    "numberOfCases = int(input())\n",
    "\n",
    "def case():\n",
    "    numOfBuses = int(input())\n",
    "    input() #ignore\n",
    "    ranges_arr = [int(i) for i in input().split()]\n",
    "\n",
    "    bus_arr = []\n",
    "    i = 0\n",
    "\n",
    "    # set up the buses\n",
    "    while i < len(ranges_arr):\n",
    "        bus_arr.append(Bus(ranges_arr[i], ranges_arr[i+1]))\n",
    "        i += 2\n",
    "\n",
    "    numOfCities = int(input())\n",
    "\n",
    "    print(\"Case #\", _, \": \", end=\"\")\n",
    "    for _ in range(numOfCities):\n",
    "\n",
    "        counter = 0\n",
    "        city = City(int(input()))\n",
    "        for bus in bus_arr:\n",
    "            if city.served(bus):\n",
    "                counter += 1\n",
    "        print(counter, \" \", end=\"\")\n",
    "        \n",
    "for xx in range(numberOfCases):\n",
    "    case()"
   ]
  },
  {
   "cell_type": "code",
   "execution_count": null,
   "metadata": {},
   "outputs": [],
   "source": []
  }
 ],
 "metadata": {
  "kernelspec": {
   "display_name": "Python 3",
   "language": "python",
   "name": "python3"
  },
  "language_info": {
   "codemirror_mode": {
    "name": "ipython",
    "version": 3
   },
   "file_extension": ".py",
   "mimetype": "text/x-python",
   "name": "python",
   "nbconvert_exporter": "python",
   "pygments_lexer": "ipython3",
   "version": "3.6.5"
  }
 },
 "nbformat": 4,
 "nbformat_minor": 2
}
